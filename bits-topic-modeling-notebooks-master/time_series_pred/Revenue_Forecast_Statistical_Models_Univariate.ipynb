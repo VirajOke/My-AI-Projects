{
 "cells": [
  {
   "cell_type": "code",
   "execution_count": 0,
   "metadata": {
    "application/vnd.databricks.v1+cell": {
     "cellMetadata": {},
     "inputWidgets": {},
     "nuid": "0b2ccc69-a618-48c5-bf87-adfe12f2c50b",
     "showTitle": false,
     "title": ""
    },
    "gather": {
     "logged": 1678799951743
    },
    "jupyter": {
     "outputs_hidden": false,
     "source_hidden": false
    },
    "nteract": {
     "transient": {
      "deleting": false
     }
    }
   },
   "outputs": [],
   "source": [
    "\r\n",
    "!pip install pmdarima #Installation of Auto-ARIMA\r\n"
   ]
  },
  {
   "cell_type": "markdown",
   "metadata": {
    "application/vnd.databricks.v1+cell": {
     "cellMetadata": {},
     "inputWidgets": {},
     "nuid": "8132e49d-734b-42ac-ad24-74406223baa8",
     "showTitle": false,
     "title": ""
    },
    "nteract": {
     "transient": {
      "deleting": false
     }
    }
   },
   "source": [
    "## is not always prudent to move immediately to the most advanced method for any given problem. The simpler models are often better, faster, and more interpretable."
   ]
  },
  {
   "cell_type": "code",
   "execution_count": 0,
   "metadata": {
    "application/vnd.databricks.v1+cell": {
     "cellMetadata": {},
     "inputWidgets": {},
     "nuid": "fdd715c8-91e7-4a0d-a567-48ad5087e8f3",
     "showTitle": false,
     "title": ""
    },
    "gather": {
     "logged": 1678799951913
    }
   },
   "outputs": [],
   "source": [
    "import datetime\r\n",
    "import math\r\n",
    "from statsmodels.tsa.stattools import adfuller\r\n",
    "import pandas as pd\r\n",
    "import matplotlib.pyplot as plt\r\n",
    "from matplotlib import rcParams\r\n",
    "from cycler import cycler\r\n",
    "import pandas as pd\r\n",
    "import pmdarima as pm\r\n",
    "import numpy as np\r\n",
    "import matplotlib.pyplot as plt\r\n",
    "import pmdarima as pm\r\n",
    "from statsmodels.graphics.tsaplots import plot_acf\r\n",
    "from statsmodels.tsa.seasonal import seasonal_decompose\r\n",
    "import seaborn as sns\r\n",
    "from pandas.tseries.offsets import DateOffset\r\n",
    "from sklearn import metrics\r\n",
    "\r\n",
    "\r\n",
    "# Function to collecte Metrics \r\n",
    "\r\n",
    "def evaluate(y_true, y_pred):\r\n",
    "    dict = { 'MAE':   metrics.mean_absolute_error(y_true, y_pred),\r\n",
    "              'MSE':  metrics.mean_squared_error(y_true, y_pred),\r\n",
    "              'RMSE': math.sqrt(metrics.mean_squared_error(y_true, y_pred)),\r\n",
    "               'R2':  metrics.r2_score(y_true, y_pred)\r\n",
    "            }\r\n",
    "    return dict"
   ]
  },
  {
   "cell_type": "code",
   "execution_count": 0,
   "metadata": {
    "application/vnd.databricks.v1+cell": {
     "cellMetadata": {},
     "inputWidgets": {},
     "nuid": "4b80b6ac-7106-452e-b57d-829c45d66950",
     "showTitle": false,
     "title": ""
    },
    "gather": {
     "logged": 1678799952062
    },
    "jupyter": {
     "outputs_hidden": false,
     "source_hidden": false
    },
    "nteract": {
     "transient": {
      "deleting": false
     }
    }
   },
   "outputs": [],
   "source": [
    "pred_periods = 12"
   ]
  },
  {
   "cell_type": "markdown",
   "metadata": {
    "application/vnd.databricks.v1+cell": {
     "cellMetadata": {},
     "inputWidgets": {},
     "nuid": "37c968b5-78ea-4329-9291-96b25651a710",
     "showTitle": false,
     "title": ""
    },
    "nteract": {
     "transient": {
      "deleting": false
     }
    }
   },
   "source": [
    "## Processing the Data\r\n",
    "\r\n",
    "Data was extracted from **EDR** table named **FIN_INV_BR_BILLING**  from SAS  (EDR_CURATED_LAKE (CURATED)) using the query : \r\n",
    "\r\n",
    "```\r\n",
    "SELECT DISTINCT t2.SNAPSHOT_PERIOD_END AS SNAPSHOT_PERIOD_END, \\n\r\n",
    "          t2.FY, \r\n",
    "          t2.POST_PERIOD, \r\n",
    "          /* SUM_of_BR_BILLED_AMT */\r\n",
    "            (SUM(t2.BR_BILLED_AMT)) FORMAT=16.2 AS SUM_of_BR_BILLED_AMT\r\n",
    "      FROM CURATED.FIN_INV_BR_BILLING t2\r\n",
    "           INNER JOIN CURATED.DEMAND_BR_ITEMS t1 ON (t2.BR_NMBR = t1.BR_NMBR)\r\n",
    "      WHERE t2.BR_BILLED_AMT >= 0\r\n",
    "      GROUP BY t2.SNAPSHOT_PERIOD_END,\r\n",
    "               t2.FY,\r\n",
    "               t2.POST_PERIOD\r\n",
    "      ORDER BY t2.FY,\r\n",
    "               t2.POST_PERIOD;\r\n",
    "```"
   ]
  },
  {
   "cell_type": "markdown",
   "metadata": {
    "application/vnd.databricks.v1+cell": {
     "cellMetadata": {},
     "inputWidgets": {},
     "nuid": "850f5a0b-ad3d-4a65-aa30-424e74bd8e92",
     "showTitle": false,
     "title": ""
    },
    "nteract": {
     "transient": {
      "deleting": false
     }
    }
   },
   "source": [
    "**The data represents the positive revenue (Billed amount)aggregated per period for each FY for all clients/partners. **"
   ]
  },
  {
   "cell_type": "markdown",
   "metadata": {
    "application/vnd.databricks.v1+cell": {
     "cellMetadata": {},
     "inputWidgets": {},
     "nuid": "d5c98ee6-36df-4987-872b-2d04799295ba",
     "showTitle": false,
     "title": ""
    },
    "nteract": {
     "transient": {
      "deleting": false
     }
    }
   },
   "source": [
    "The function below helps to read data from csv file and make the column SNAPSHOT_PERIOD_END as DateTimeindex, that way our forecasting analysis will be able to interpret these values. We drop the other columns as we do univariate analyses."
   ]
  },
  {
   "cell_type": "code",
   "execution_count": 0,
   "metadata": {
    "application/vnd.databricks.v1+cell": {
     "cellMetadata": {},
     "inputWidgets": {},
     "nuid": "5494877a-02a1-4185-80d9-9dc7165873ac",
     "showTitle": false,
     "title": ""
    },
    "gather": {
     "logged": 1678799952230
    },
    "jupyter": {
     "outputs_hidden": false,
     "source_hidden": false
    },
    "nteract": {
     "transient": {
      "deleting": false
     }
    }
   },
   "outputs": [],
   "source": [
    "def upload_file(path):\r\n",
    "    time_column_name = \"Timestamp\"\r\n",
    "    df = pd.read_csv(path, delimiter=\";\")\r\n",
    "    df['Timestamp'] = df['SNAPSHOT_PERIOD_END'].apply(lambda x: datetime.datetime.strptime(x, \"%d%b%Y:%H:%M:%S\").date())\r\n",
    "    df.sort_values(by=['Timestamp'],inplace=True)\r\n",
    "    df.set_index(df.Timestamp, inplace=True)\r\n",
    "    df= df.drop(['SNAPSHOT_PERIOD_END','FY','COUNT_BR_NMBR','COUNT_GC_ORG','Timestamp'], axis=1)\r\n",
    "    df= df.rename(columns={\"SUM_of_BR_BILLED_AMT\": \"Revenue\"})\r\n",
    "    df['Revenue']=df['Revenue']/1000000\r\n",
    "    return (df)\r\n",
    "\r\n",
    "df= upload_file(\"./dataset2.csv\")\r\n",
    "df.head(100)"
   ]
  },
  {
   "cell_type": "code",
   "execution_count": 0,
   "metadata": {
    "application/vnd.databricks.v1+cell": {
     "cellMetadata": {},
     "inputWidgets": {},
     "nuid": "23489986-22eb-40c8-a1c5-b161507415a4",
     "showTitle": false,
     "title": ""
    },
    "gather": {
     "logged": 1678799952613
    },
    "jupyter": {
     "outputs_hidden": false,
     "source_hidden": false
    },
    "nteract": {
     "transient": {
      "deleting": false
     }
    }
   },
   "outputs": [],
   "source": [
    "# Decompose the time series\r\n",
    "plt.rcParams[\"figure.figsize\"] = (8,6)\r\n",
    "result = seasonal_decompose(df['Revenue'], model='multiplicative', period = 12)\r\n",
    "result.plot()\r\n",
    "plt.show()"
   ]
  },
  {
   "cell_type": "markdown",
   "metadata": {
    "application/vnd.databricks.v1+cell": {
     "cellMetadata": {},
     "inputWidgets": {},
     "nuid": "33e3c35b-cc7b-40ef-933a-7a545785ea6e",
     "showTitle": false,
     "title": ""
    },
    "nteract": {
     "transient": {
      "deleting": false
     }
    }
   },
   "source": [
    "<u>**NOTE :**</u>\r\n",
    "**- A  12-month seasonal pattern is visible**\r\n",
    "**- An upwards and downwards trend is evident**"
   ]
  },
  {
   "cell_type": "code",
   "execution_count": 0,
   "metadata": {
    "application/vnd.databricks.v1+cell": {
     "cellMetadata": {},
     "inputWidgets": {},
     "nuid": "211a7b7f-80a8-4a37-9bbb-3755b9211d64",
     "showTitle": false,
     "title": ""
    },
    "gather": {
     "logged": 1678799953161
    },
    "jupyter": {
     "outputs_hidden": false,
     "source_hidden": false
    },
    "nteract": {
     "transient": {
      "deleting": false
     }
    }
   },
   "outputs": [],
   "source": [
    "def stationary_test(df,columns,treshold = 0.05):\r\n",
    "\r\n",
    "    for quant in columns:\r\n",
    "        \r\n",
    "        # Remove null values (useful when plotting diff series)\r\n",
    "        time_series = df[quant][df[quant].notnull()]\r\n",
    "\r\n",
    "        # Autocorrelation function\r\n",
    "        plot_acf(time_series,title='Autocorrelation function - {}'.format(quant))\r\n",
    "        plt.xlabel('lags')\r\n",
    "        plt.show()\r\n",
    "\r\n",
    "        # Dickely-Fuller test statistics\r\n",
    "        dickley_fuller_test = adfuller(time_series)\r\n",
    "        pvalue = dickley_fuller_test[1]\r\n",
    "\r\n",
    "        if pvalue < treshold:\r\n",
    "            print('Time series \"{}\" is stationay (NULL HP rejected - pvalue = {:.4f})'.format(quant,pvalue))\r\n",
    "        else:\r\n",
    "            print('Time series \"{}\" might have unit root (NULL HP cannot be rejected - pvalue = {:.4f})'.format(quant,pvalue))\r\n",
    "stationary_test(df, ['Revenue'])"
   ]
  },
  {
   "cell_type": "markdown",
   "metadata": {
    "application/vnd.databricks.v1+cell": {
     "cellMetadata": {},
     "inputWidgets": {},
     "nuid": "6029b1e0-43c8-4748-bc65-8ffb916702e0",
     "showTitle": false,
     "title": ""
    },
    "nteract": {
     "transient": {
      "deleting": false
     }
    }
   },
   "source": [
    "# Make the time serie stationary"
   ]
  },
  {
   "cell_type": "code",
   "execution_count": 0,
   "metadata": {
    "application/vnd.databricks.v1+cell": {
     "cellMetadata": {},
     "inputWidgets": {},
     "nuid": "6581f50e-f262-4f50-a7fd-78c435f71c03",
     "showTitle": false,
     "title": ""
    },
    "gather": {
     "logged": 1678799953321
    },
    "jupyter": {
     "outputs_hidden": false,
     "source_hidden": false
    },
    "nteract": {
     "transient": {
      "deleting": false
     }
    }
   },
   "outputs": [],
   "source": [
    "df_differenced = df.diff().dropna()\r\n",
    "df_differenced.head()"
   ]
  },
  {
   "cell_type": "markdown",
   "metadata": {
    "application/vnd.databricks.v1+cell": {
     "cellMetadata": {},
     "inputWidgets": {},
     "nuid": "8d6b85f2-4b93-4a56-bbb7-a997f5b5aa5a",
     "showTitle": false,
     "title": ""
    },
    "nteract": {
     "transient": {
      "deleting": false
     }
    }
   },
   "source": [
    "## Stationarity in a time series indicates that a series’ statistical attributes, such as mean, variance, etc., are constant over time"
   ]
  },
  {
   "cell_type": "code",
   "execution_count": 0,
   "metadata": {
    "application/vnd.databricks.v1+cell": {
     "cellMetadata": {},
     "inputWidgets": {},
     "nuid": "62a112f2-df0b-4801-a771-bc8b7cc16a60",
     "showTitle": false,
     "title": ""
    },
    "gather": {
     "logged": 1678799953511
    },
    "jupyter": {
     "outputs_hidden": false,
     "source_hidden": false
    },
    "nteract": {
     "transient": {
      "deleting": false
     }
    }
   },
   "outputs": [],
   "source": [
    "stationary_test(df_differenced, ['Revenue'])"
   ]
  },
  {
   "cell_type": "markdown",
   "metadata": {
    "application/vnd.databricks.v1+cell": {
     "cellMetadata": {},
     "inputWidgets": {},
     "nuid": "6e2b414a-8ce0-4a4b-83e9-0f05f55f775d",
     "showTitle": false,
     "title": ""
    },
    "nteract": {
     "transient": {
      "deleting": false
     }
    }
   },
   "source": [
    "Differencing is a method of transforming a non-stationary time series into a stationary one. This is an important step in preparing data to be used in an ARIMA model."
   ]
  },
  {
   "cell_type": "markdown",
   "metadata": {
    "application/vnd.databricks.v1+cell": {
     "cellMetadata": {},
     "inputWidgets": {},
     "nuid": "afcc749a-2519-4b4b-870b-2ceb9af4a7d2",
     "showTitle": false,
     "title": ""
    },
    "nteract": {
     "transient": {
      "deleting": false
     }
    }
   },
   "source": [
    "## (1) Applying Auto-ARIMA/SARIMA Model (Autoregressive Integrated Moving Average)\r\n",
    "\r\n",
    "Auto-ARIMA combines auto-regression, differencing, and a moving average into a single model using the following steps\r\n",
    "\r\n",
    "Auto-ARIMA works by conducting differencing tests (i.e., Kwiatkowski–Phillips–Schmidt–Shin, Augmented Dickey-Fuller or Phillips–Perron) to determine the order of differencing, d, and then fitting models within ranges of defined start_p, max_p, start_q, max_q ranges. If the seasonal optional is enabled, auto-ARIMA also seeks to identify the optimal P and Q hyper- parameters after conducting the Canova-Hansen to determine the optimal order of seasonal differencing, D."
   ]
  },
  {
   "cell_type": "code",
   "execution_count": 0,
   "metadata": {
    "application/vnd.databricks.v1+cell": {
     "cellMetadata": {},
     "inputWidgets": {},
     "nuid": "bfb1fb1f-7e99-4a9e-a03f-1b9f7d091f74",
     "showTitle": false,
     "title": ""
    },
    "gather": {
     "logged": 1678799953766
    },
    "jupyter": {
     "outputs_hidden": false,
     "source_hidden": false
    },
    "nteract": {
     "transient": {
      "deleting": false
     }
    }
   },
   "outputs": [],
   "source": [
    "# split into train and test\r\n",
    "split_number = df['Revenue'].count() - pred_periods # corresponds to a prediction horizion  06 months\r\n",
    "df_train = pd.DataFrame(df['Revenue'][:split_number+1]).rename(columns={'Revenue':'y_train'})\r\n",
    "df_test = pd.DataFrame(df['Revenue'][split_number:]).rename(columns={'Revenue':'y_test'})\r\n",
    "# auto_arima\r\n",
    "fig, ax = plt.subplots(1, 1, figsize=(15, 5))\r\n",
    "ax.plot(df_train)\r\n",
    "ax.plot(df_test)"
   ]
  },
  {
   "cell_type": "markdown",
   "metadata": {
    "application/vnd.databricks.v1+cell": {
     "cellMetadata": {},
     "inputWidgets": {},
     "nuid": "83010a6b-9771-42bb-8aac-90d2b15d7d72",
     "showTitle": false,
     "title": ""
    },
    "nteract": {
     "transient": {
      "deleting": false
     }
    }
   },
   "source": [
    "## Performing the Seasonal ARIMA\r\n",
    "We noticed that our time series with a seasonal component, so it make sense to use a Seasonal ARIMA model. In order to do this we will need to choose p,d,q values for the ARIMA, and P,D,Q values for the Seasonal component."
   ]
  },
  {
   "cell_type": "code",
   "execution_count": 0,
   "metadata": {
    "application/vnd.databricks.v1+cell": {
     "cellMetadata": {},
     "inputWidgets": {},
     "nuid": "74fc4fa7-7ad2-4347-8b00-017202e977b4",
     "showTitle": false,
     "title": ""
    },
    "gather": {
     "logged": 1678799960100
    },
    "jupyter": {
     "outputs_hidden": false,
     "source_hidden": false
    },
    "nteract": {
     "transient": {
      "deleting": false
     }
    }
   },
   "outputs": [],
   "source": [
    "# SARIMAX Model\r\n",
    "model_revenue = pm.auto_arima(df_train, test='adf',                         \r\n",
    "                          seasonal=True, m=12,\r\n",
    "                          max_P=5, max_D=5, max_Q=5,trace=True,\r\n",
    "                         error_action='ignore',  \r\n",
    "                         suppress_warnings=True, \r\n",
    "                         stepwise=True)\r\n",
    "# summarize the model characteristics\r\n",
    "print(model_revenue.summary())"
   ]
  },
  {
   "cell_type": "markdown",
   "metadata": {
    "application/vnd.databricks.v1+cell": {
     "cellMetadata": {},
     "inputWidgets": {},
     "nuid": "a64abea6-3551-413f-869e-e48ca1fcfae4",
     "showTitle": false,
     "title": ""
    },
    "nteract": {
     "transient": {
      "deleting": false
     }
    }
   },
   "source": [
    "Note : For revenue forecasting, the resulting best model parameters gave us an AIC value of 567.164.  SARIMAX(4, 1, 0)x(0, 1, 0, 12)\r\n",
    "The **Akaike information criterion** (AIC) is an estimator of the relative quality of statistical models for a given set of data. Given a collection of models for the data, AIC estimates the quality of each model, relative to each of the other models."
   ]
  },
  {
   "cell_type": "markdown",
   "metadata": {
    "application/vnd.databricks.v1+cell": {
     "cellMetadata": {},
     "inputWidgets": {},
     "nuid": "7cc959b7-f497-460d-b3d3-666d947fb944",
     "showTitle": false,
     "title": ""
    },
    "nteract": {
     "transient": {
      "deleting": false
     }
    }
   },
   "source": [
    "## Train the Model\r\n",
    "We can then train the model by simply calling .fit on the stepwise model and passing in the training data:"
   ]
  },
  {
   "cell_type": "code",
   "execution_count": 0,
   "metadata": {
    "application/vnd.databricks.v1+cell": {
     "cellMetadata": {},
     "inputWidgets": {},
     "nuid": "e2a88db8-5c9d-4b44-a65a-7126c300cba1",
     "showTitle": false,
     "title": ""
    },
    "gather": {
     "logged": 1678799960273
    },
    "jupyter": {
     "outputs_hidden": false,
     "source_hidden": false
    },
    "nteract": {
     "transient": {
      "deleting": false
     }
    }
   },
   "outputs": [],
   "source": [
    "model_revenue.fit(df_train)"
   ]
  },
  {
   "cell_type": "code",
   "execution_count": 0,
   "metadata": {
    "application/vnd.databricks.v1+cell": {
     "cellMetadata": {},
     "inputWidgets": {},
     "nuid": "e9ae9d5b-15c0-4cf8-8eed-2dee946fd9a5",
     "showTitle": false,
     "title": ""
    },
    "gather": {
     "logged": 1678799960516
    },
    "jupyter": {
     "outputs_hidden": false,
     "source_hidden": false
    },
    "nteract": {
     "transient": {
      "deleting": false
     }
    }
   },
   "outputs": [],
   "source": [
    "# Generate prediction for n periods, \r\n",
    "# Predictions start from the last date of the training data\r\n",
    "# test_pred = pd.DataFrame(model_fit.predict(n_periods=pred_periods),index=df_test.index )\r\n",
    "# Forecast\r\n",
    "\r\n",
    "prediction, confint = model_revenue.predict(n_periods=pred_periods, return_conf_int=True)\r\n",
    "prediction_series = pd.Series(prediction,index=df_test.index)\r\n",
    "cf= pd.DataFrame(confint)\r\n",
    "fig, ax = plt.subplots(1, 1, figsize=(15, 5))\r\n",
    "ax.plot(df_train)\r\n",
    "ax.plot(df_test)\r\n",
    "ax.plot(prediction_series,color='Green')\r\n",
    "ax.fill_between(prediction_series.index,\r\n",
    "                cf[0],\r\n",
    "                cf[1],color='grey',alpha=.3)"
   ]
  },
  {
   "cell_type": "code",
   "execution_count": 0,
   "metadata": {
    "application/vnd.databricks.v1+cell": {
     "cellMetadata": {},
     "inputWidgets": {},
     "nuid": "2550d2a5-31e2-40ac-9d55-d4619adece27",
     "showTitle": false,
     "title": ""
    },
    "gather": {
     "logged": 1678799960672
    },
    "jupyter": {
     "outputs_hidden": false,
     "source_hidden": false
    },
    "nteract": {
     "transient": {
      "deleting": false
     }
    }
   },
   "outputs": [],
   "source": [
    "# collecting metrics\r\n",
    "\r\n",
    "SARIMA_MAE = evaluate(df_test['y_test'], prediction_series)['MAE']\r\n",
    "SARIMA_MSE = evaluate(df_test['y_test'], prediction_series)['MSE']\r\n",
    "SARIMA_RMSE = evaluate(df_test['y_test'], prediction_series)['RMSE']\r\n",
    "SARIMA_R2 = evaluate(df_test['y_test'], prediction_series)['R2']\r\n"
   ]
  },
  {
   "cell_type": "code",
   "execution_count": 0,
   "metadata": {
    "application/vnd.databricks.v1+cell": {
     "cellMetadata": {},
     "inputWidgets": {},
     "nuid": "b273be7f-2d29-447d-883f-0173ab5c2855",
     "showTitle": false,
     "title": ""
    },
    "gather": {
     "logged": 1678799960869
    },
    "jupyter": {
     "outputs_hidden": false,
     "source_hidden": false
    },
    "nteract": {
     "transient": {
      "deleting": false
     }
    }
   },
   "outputs": [],
   "source": [
    "# Generate a new time index from the last date on df\r\n",
    "future_index=pd.date_range (start=df.last_valid_index(),periods=pred_periods, freq='M')\r\n",
    "\r\n",
    "prediction, confint = model_revenue.predict(n_periods=pred_periods,  return_conf_int=True )\r\n",
    "prediction_series = pd.Series(prediction,index=future_index)\r\n",
    "cf= pd.DataFrame(confint)\r\n",
    "fig, ax = plt.subplots(1, 1, figsize=(15, 5))\r\n",
    "ax.plot(df.Revenue)\r\n",
    "ax.plot(prediction_series, color='green')\r\n",
    "ax.fill_between(prediction_series.index,\r\n",
    "                cf[0],\r\n",
    "                cf[1],color='lightblue',alpha=.3)\r\n",
    "\r\n",
    "prediction_series.head(12)"
   ]
  },
  {
   "cell_type": "markdown",
   "metadata": {
    "application/vnd.databricks.v1+cell": {
     "cellMetadata": {},
     "inputWidgets": {},
     "nuid": "ed450ff8-4137-408b-891e-58f4f1dc15f1",
     "showTitle": false,
     "title": ""
    },
    "nteract": {
     "transient": {
      "deleting": false
     }
    }
   },
   "source": [
    "## (2) Applying Prophet"
   ]
  },
  {
   "cell_type": "code",
   "execution_count": 0,
   "metadata": {
    "application/vnd.databricks.v1+cell": {
     "cellMetadata": {},
     "inputWidgets": {},
     "nuid": "d0fab1f9-d786-4985-a5d8-ee4f0fdab1bd",
     "showTitle": false,
     "title": ""
    },
    "gather": {
     "logged": 1678799961127
    },
    "jupyter": {
     "outputs_hidden": false,
     "source_hidden": false
    },
    "nteract": {
     "transient": {
      "deleting": false
     }
    }
   },
   "outputs": [],
   "source": [
    "from fbprophet import Prophet,diagnostics\r\n",
    "from sklearn.preprocessing import MinMaxScaler\r\n",
    "\r\n",
    "df= upload_file(\"./Dataset2.csv\")\r\n",
    "# prepare expected column names\r\n",
    "df_pro=pd.DataFrame(columns=['ds','y'])\r\n",
    "df_pro=df.reset_index()\r\n",
    "df_pro= df_pro.rename(columns={\"Timestamp\": \"ds\", \"Revenue\": \"y\"})\r\n",
    "df_pro.head()\r\n"
   ]
  },
  {
   "cell_type": "code",
   "execution_count": 0,
   "metadata": {
    "application/vnd.databricks.v1+cell": {
     "cellMetadata": {},
     "inputWidgets": {},
     "nuid": "38b2d948-7e0c-4307-b49e-c57127dcdd44",
     "showTitle": false,
     "title": ""
    },
    "gather": {
     "logged": 1678799961308
    },
    "jupyter": {
     "outputs_hidden": false,
     "source_hidden": false
    },
    "nteract": {
     "transient": {
      "deleting": false
     }
    }
   },
   "outputs": [],
   "source": [
    "\r\n",
    "df_train = df_pro.iloc[:-pred_periods, :]\r\n",
    "df_test = df_pro.iloc[int(-pred_periods):, :]\r\n",
    "df_train.shape\r\n",
    "df_test.shape\r\n"
   ]
  },
  {
   "cell_type": "code",
   "execution_count": 0,
   "metadata": {
    "application/vnd.databricks.v1+cell": {
     "cellMetadata": {},
     "inputWidgets": {},
     "nuid": "de564ef7-5d32-4bb3-950c-da680469bee6",
     "showTitle": false,
     "title": ""
    },
    "gather": {
     "logged": 1678799963797
    },
    "jupyter": {
     "outputs_hidden": false,
     "source_hidden": false
    },
    "nteract": {
     "transient": {
      "deleting": false
     }
    }
   },
   "outputs": [],
   "source": [
    "# set the uncertainty interval to 95% (the Prophet default is 80%)\r\n",
    "m = Prophet(interval_width=0.95)\r\n",
    "m.fit(df_train)\r\n"
   ]
  },
  {
   "cell_type": "code",
   "execution_count": 0,
   "metadata": {
    "application/vnd.databricks.v1+cell": {
     "cellMetadata": {},
     "inputWidgets": {},
     "nuid": "25aa8ede-15d4-44be-b368-d2d77782a71f",
     "showTitle": false,
     "title": ""
    },
    "gather": {
     "logged": 1678799965475
    },
    "jupyter": {
     "outputs_hidden": false,
     "source_hidden": false
    },
    "nteract": {
     "transient": {
      "deleting": false
     }
    }
   },
   "outputs": [],
   "source": [
    "future = m.make_future_dataframe(periods=pred_periods,freq='M')\r\n",
    "forecast = m.predict(future)\r\n",
    "forecast[['ds', 'yhat', 'yhat_lower', 'yhat_upper']].tail(pred_periods)"
   ]
  },
  {
   "cell_type": "code",
   "execution_count": 0,
   "metadata": {
    "application/vnd.databricks.v1+cell": {
     "cellMetadata": {},
     "inputWidgets": {},
     "nuid": "13572f99-973d-4301-a0e8-fddeefe2dedc",
     "showTitle": false,
     "title": ""
    },
    "gather": {
     "logged": 1678799976868
    },
    "jupyter": {
     "outputs_hidden": false,
     "source_hidden": false
    },
    "nteract": {
     "transient": {
      "deleting": false
     }
    }
   },
   "outputs": [],
   "source": [
    "from fbprophet.plot import plot_plotly\r\n",
    "plot_plotly(m, forecast)"
   ]
  },
  {
   "cell_type": "code",
   "execution_count": 0,
   "metadata": {
    "application/vnd.databricks.v1+cell": {
     "cellMetadata": {},
     "inputWidgets": {},
     "nuid": "ee717085-bea5-4b74-a4ab-e72a6167ea6e",
     "showTitle": false,
     "title": ""
    },
    "gather": {
     "logged": 1678799984076
    },
    "jupyter": {
     "outputs_hidden": false,
     "source_hidden": false
    },
    "nteract": {
     "transient": {
      "deleting": false
     }
    }
   },
   "outputs": [],
   "source": [
    "# Collecting metrics \r\n",
    "\r\n",
    "Prophet_MAE = evaluate(df_test['y'], forecast['yhat'].tail(pred_periods))['MAE']\r\n",
    "Prophet_MSE = evaluate(df_test['y'], forecast['yhat'].tail(pred_periods))['MSE']\r\n",
    "Prophet_RMSE = evaluate(df_test['y'], forecast['yhat'].tail(pred_periods))['RMSE']\r\n",
    "Prophet_R2 = evaluate(df_test['y'], forecast['yhat'].tail(pred_periods))['R2']\r\n",
    "evaluate(df_test['y'], forecast['yhat'].tail(pred_periods))"
   ]
  },
  {
   "cell_type": "markdown",
   "metadata": {
    "application/vnd.databricks.v1+cell": {
     "cellMetadata": {},
     "inputWidgets": {},
     "nuid": "1551eeee-f710-4c54-9157-66f1b46197ec",
     "showTitle": false,
     "title": ""
    },
    "nteract": {
     "transient": {
      "deleting": false
     }
    }
   },
   "source": []
  },
  {
   "cell_type": "code",
   "execution_count": 0,
   "metadata": {
    "application/vnd.databricks.v1+cell": {
     "cellMetadata": {},
     "inputWidgets": {},
     "nuid": "84c3f57c-1961-4f43-99e8-eccc12cb4fa8",
     "showTitle": false,
     "title": ""
    },
    "gather": {
     "logged": 1678800062305
    },
    "jupyter": {
     "outputs_hidden": false,
     "source_hidden": false
    },
    "nteract": {
     "transient": {
      "deleting": false
     }
    }
   },
   "outputs": [],
   "source": [
    "m = Prophet(interval_width=0.95)\r\n",
    "m.fit(df_pro)\r\n",
    "future = m.make_future_dataframe(periods=pred_periods,freq='M')\r\n",
    "forecast = m.predict(future)\r\n",
    "forecast[['ds', 'yhat', 'yhat_lower', 'yhat_upper']].tail(pred_periods)"
   ]
  },
  {
   "cell_type": "code",
   "execution_count": 0,
   "metadata": {
    "application/vnd.databricks.v1+cell": {
     "cellMetadata": {},
     "inputWidgets": {},
     "nuid": "909fc5ce-56d5-4dd5-b070-0386e028cced",
     "showTitle": false,
     "title": ""
    },
    "gather": {
     "logged": 1678800066329
    },
    "jupyter": {
     "outputs_hidden": false,
     "source_hidden": false
    },
    "nteract": {
     "transient": {
      "deleting": false
     }
    }
   },
   "outputs": [],
   "source": [
    "from fbprophet.plot import plot_plotly\r\n",
    "plot_plotly(m, forecast)"
   ]
  },
  {
   "cell_type": "code",
   "execution_count": 0,
   "metadata": {
    "application/vnd.databricks.v1+cell": {
     "cellMetadata": {},
     "inputWidgets": {},
     "nuid": "a368f7c6-3075-4bcd-b2bf-0a806b6be1a0",
     "showTitle": false,
     "title": ""
    },
    "gather": {
     "logged": 1678800069395
    },
    "jupyter": {
     "outputs_hidden": false,
     "source_hidden": false
    },
    "nteract": {
     "transient": {
      "deleting": false
     }
    }
   },
   "outputs": [],
   "source": [
    "forecast[['ds', 'yhat', 'yhat_lower', 'yhat_upper']].tail(pred_periods)"
   ]
  },
  {
   "cell_type": "markdown",
   "metadata": {
    "application/vnd.databricks.v1+cell": {
     "cellMetadata": {},
     "inputWidgets": {},
     "nuid": "2a473c95-0279-482a-84cb-38582f226424",
     "showTitle": false,
     "title": ""
    },
    "nteract": {
     "transient": {
      "deleting": false
     }
    }
   },
   "source": [
    "## NeuralProphet"
   ]
  },
  {
   "cell_type": "markdown",
   "metadata": {
    "application/vnd.databricks.v1+cell": {
     "cellMetadata": {},
     "inputWidgets": {},
     "nuid": "e5a51fea-99a4-4e88-9a67-03a8427bcf00",
     "showTitle": false,
     "title": ""
    },
    "nteract": {
     "transient": {
      "deleting": false
     }
    }
   },
   "source": [
    "Installing Neural Prophet will crash your azure studio kernel"
   ]
  },
  {
   "cell_type": "markdown",
   "metadata": {
    "application/vnd.databricks.v1+cell": {
     "cellMetadata": {},
     "inputWidgets": {},
     "nuid": "e9ac3ae6-2586-4504-baac-a54b740a51de",
     "showTitle": false,
     "title": ""
    },
    "nteract": {
     "transient": {
      "deleting": false
     }
    }
   },
   "source": [
    "https://bobrupakroy.medium.com/neural-prophet-for-time-series-27bfeeaa5c7d"
   ]
  },
  {
   "cell_type": "code",
   "execution_count": 0,
   "metadata": {
    "application/vnd.databricks.v1+cell": {
     "cellMetadata": {},
     "inputWidgets": {},
     "nuid": "ffe6de1a-c18d-4906-ba8d-5845c81eb033",
     "showTitle": false,
     "title": ""
    },
    "gather": {
     "logged": 1678800087324
    },
    "jupyter": {
     "outputs_hidden": false,
     "source_hidden": false
    },
    "nteract": {
     "transient": {
      "deleting": false
     }
    }
   },
   "outputs": [],
   "source": [
    "error_metrics = {'model':['SARIMA','Prophet'],\r\n",
    "'MAE': [SARIMA_MAE,Prophet_MAE],\r\n",
    "'MSE':[SARIMA_MSE,Prophet_MSE],\r\n",
    "'RMSE':[SARIMA_RMSE,Prophet_RMSE],\r\n",
    "'R2':[SARIMA_R2,Prophet_R2]}"
   ]
  },
  {
   "cell_type": "code",
   "execution_count": 0,
   "metadata": {
    "application/vnd.databricks.v1+cell": {
     "cellMetadata": {},
     "inputWidgets": {},
     "nuid": "ac7c375c-c5cb-47d1-8834-e19e8cbf65fc",
     "showTitle": false,
     "title": ""
    },
    "gather": {
     "logged": 1678800043243
    },
    "jupyter": {
     "outputs_hidden": false,
     "source_hidden": false
    },
    "nteract": {
     "transient": {
      "deleting": false
     }
    }
   },
   "outputs": [],
   "source": [
    "acc_df = pd.DataFrame(error_metrics)\r\n",
    "acc_df\r\n",
    "fig, axes = plt.subplots(2,2,figsize=(16,8))\r\n",
    "\r\n",
    "sns.lineplot(ax=axes[0,0], x='model',y='MAE', data=acc_df)\r\n",
    "sns.lineplot(ax=axes[0,1],x='model',y='MSE', data=acc_df)\r\n",
    "sns.lineplot(ax=axes[1,0],x='model',y='RMSE', data=acc_df)\r\n",
    "sns.lineplot(ax=axes[1,1],x='model',y='R2', data=acc_df)\r\n",
    "\r\n",
    "plt.show()\r\n"
   ]
  }
 ],
 "metadata": {
  "application/vnd.databricks.v1+notebook": {
   "dashboards": [],
   "language": "python",
   "notebookMetadata": {},
   "notebookName": "Revenue_Forecast_Statistical_Models_Univariate",
   "widgets": {}
  },
  "kernel_info": {
   "name": "python3"
  },
  "kernelspec": {
   "display_name": "Python 3 (ipykernel)",
   "language": "python",
   "name": "python3"
  },
  "language_info": {
   "codemirror_mode": {
    "name": "ipython",
    "version": 3
   },
   "file_extension": ".py",
   "mimetype": "text/x-python",
   "name": "python",
   "nbconvert_exporter": "python",
   "pygments_lexer": "ipython3",
   "version": "3.8.5"
  },
  "microsoft": {
   "host": {
    "AzureML": {
     "notebookHasBeenCompleted": true
    }
   },
   "ms_spell_check": {
    "ms_spell_check_language": "en"
   }
  },
  "nteract": {
   "version": "nteract-front-end@1.0.0"
  }
 },
 "nbformat": 4,
 "nbformat_minor": 0
}
