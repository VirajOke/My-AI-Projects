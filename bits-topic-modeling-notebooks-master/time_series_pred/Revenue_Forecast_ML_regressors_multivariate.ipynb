{
 "cells": [
  {
   "cell_type": "markdown",
   "metadata": {
    "application/vnd.databricks.v1+cell": {
     "cellMetadata": {},
     "inputWidgets": {},
     "nuid": "71f9811d-27df-4344-9172-429914816af7",
     "showTitle": false,
     "title": ""
    },
    "papermill": {
     "duration": 0.023667,
     "end_time": "2023-01-02T18:34:28.993732",
     "exception": false,
     "start_time": "2023-01-02T18:34:28.970065",
     "status": "completed"
    },
    "tags": []
   },
   "source": [
    "## VNR Revenue Prediction using different ML Algorithms"
   ]
  },
  {
   "cell_type": "code",
   "execution_count": 0,
   "metadata": {
    "application/vnd.databricks.v1+cell": {
     "cellMetadata": {},
     "inputWidgets": {},
     "nuid": "cf3023ae-9370-4e74-b54d-f2dfcfbdd2c9",
     "showTitle": false,
     "title": ""
    },
    "execution": {
     "iopub.execute_input": "2023-01-02T18:34:29.038351Z",
     "iopub.status.busy": "2023-01-02T18:34:29.037009Z",
     "iopub.status.idle": "2023-01-02T18:34:31.286362Z",
     "shell.execute_reply": "2023-01-02T18:34:31.285340Z"
    },
    "gather": {
     "logged": 1678815468524
    },
    "id": "-dY92ex6l6BQ",
    "papermill": {
     "duration": 2.274557,
     "end_time": "2023-01-02T18:34:31.289193",
     "exception": false,
     "start_time": "2023-01-02T18:34:29.014636",
     "status": "completed"
    },
    "tags": []
   },
   "outputs": [],
   "source": [
    "import numpy as np\n",
    "import datetime\n",
    "import json\n",
    "import logging\n",
    "import pandas as pd\n",
    "from matplotlib import rcParams\n",
    "from cycler import cycler\n",
    "import pmdarima as pm\n",
    "from statsmodels.graphics.tsaplots import plot_acf\n",
    "from statsmodels.tsa.seasonal import seasonal_decompose\n",
    "import seaborn as sns\n",
    "import matplotlib.pyplot as plt\n",
    "import seaborn as sns\n",
    "from scipy import stats\n",
    "import statsmodels.api as sm\n",
    "from sklearn.preprocessing import MinMaxScaler\n",
    "from sklearn import metrics\n",
    "from sklearn.model_selection import train_test_split \n",
    "from sklearn.linear_model import LinearRegression\n",
    "from sklearn.ensemble import RandomForestRegressor\n",
    "from sklearn.neighbors import KNeighborsRegressor\n",
    "from xgboost import XGBRegressor\n",
    "from sklearn.tree import DecisionTreeRegressor\n",
    "from pandas.tseries.offsets import DateOffset"
   ]
  },
  {
   "cell_type": "code",
   "execution_count": 0,
   "metadata": {
    "application/vnd.databricks.v1+cell": {
     "cellMetadata": {},
     "inputWidgets": {},
     "nuid": "253db23e-623f-4b5d-825e-c41fe64ddc33",
     "showTitle": false,
     "title": ""
    },
    "execution": {
     "iopub.execute_input": "2023-01-02T18:34:31.334697Z",
     "iopub.status.busy": "2023-01-02T18:34:31.334307Z",
     "iopub.status.idle": "2023-01-02T18:34:31.664751Z",
     "shell.execute_reply": "2023-01-02T18:34:31.663647Z"
    },
    "gather": {
     "logged": 1678815468857
    },
    "id": "XP-BIFocmZU9",
    "papermill": {
     "duration": 0.357349,
     "end_time": "2023-01-02T18:34:31.668307",
     "exception": false,
     "start_time": "2023-01-02T18:34:31.310958",
     "status": "completed"
    },
    "tags": []
   },
   "outputs": [],
   "source": [
    "def upload_file(path):\n",
    "    \n",
    "    df = pd.read_csv(path, delimiter=\";\")\n",
    "    df['Timestamp'] = df['SNAPSHOT_PERIOD_END'].apply(lambda x: datetime.datetime.strptime(x, \"%d%b%Y:%H:%M:%S\").date())\n",
    "    df.sort_values(by=['Timestamp'],inplace=True)\n",
    "    df.set_index(df.Timestamp, inplace=True)\n",
    "    df= df.drop(['SNAPSHOT_PERIOD_END','Timestamp'], axis=1)\n",
    "    df= df.rename(columns={\"SUM_of_BR_BILLED_AMT\": \"Revenue\"})\n",
    "    df['Revenue']= df['Revenue']/1000000\n",
    "    return (df)\n",
    "\n",
    "data= upload_file(\"./dataset2.csv\")\n",
    "data.head(100)"
   ]
  },
  {
   "cell_type": "code",
   "execution_count": 0,
   "metadata": {
    "application/vnd.databricks.v1+cell": {
     "cellMetadata": {},
     "inputWidgets": {},
     "nuid": "2882d24a-7242-449a-bea8-00a4ac4a69fa",
     "showTitle": false,
     "title": ""
    },
    "execution": {
     "iopub.execute_input": "2023-01-02T18:34:31.837575Z",
     "iopub.status.busy": "2023-01-02T18:34:31.837207Z",
     "iopub.status.idle": "2023-01-02T18:34:31.881144Z",
     "shell.execute_reply": "2023-01-02T18:34:31.879553Z"
    },
    "gather": {
     "logged": 1678815469191
    },
    "id": "pmnce0B_mv9c",
    "outputId": "c05d1301-e4fa-4196-82ce-532f5d9ac0f0",
    "papermill": {
     "duration": 0.070326,
     "end_time": "2023-01-02T18:34:31.883963",
     "exception": false,
     "start_time": "2023-01-02T18:34:31.813637",
     "status": "completed"
    },
    "tags": []
   },
   "outputs": [],
   "source": [
    "data.info()"
   ]
  },
  {
   "cell_type": "code",
   "execution_count": 0,
   "metadata": {
    "application/vnd.databricks.v1+cell": {
     "cellMetadata": {},
     "inputWidgets": {},
     "nuid": "e4078d42-a15a-41b7-81c1-f0e3b7acb714",
     "showTitle": false,
     "title": ""
    },
    "execution": {
     "iopub.execute_input": "2023-01-02T18:34:31.929642Z",
     "iopub.status.busy": "2023-01-02T18:34:31.929234Z",
     "iopub.status.idle": "2023-01-02T18:34:31.953954Z",
     "shell.execute_reply": "2023-01-02T18:34:31.953065Z"
    },
    "gather": {
     "logged": 1678815469556
    },
    "id": "wRT3whR2nA4n",
    "outputId": "8d8cf8f1-7d86-452e-ff34-5a5194a364ba",
    "papermill": {
     "duration": 0.050011,
     "end_time": "2023-01-02T18:34:31.955934",
     "exception": false,
     "start_time": "2023-01-02T18:34:31.905923",
     "status": "completed"
    },
    "tags": []
   },
   "outputs": [],
   "source": [
    "data.isna().sum()"
   ]
  },
  {
   "cell_type": "markdown",
   "metadata": {
    "application/vnd.databricks.v1+cell": {
     "cellMetadata": {},
     "inputWidgets": {},
     "nuid": "af3b7ad8-26bf-49d1-a7f4-c3a6b41cc9b5",
     "showTitle": false,
     "title": ""
    },
    "nteract": {
     "transient": {
      "deleting": false
     }
    }
   },
   "source": [
    "Timestamp will be shifted by 3 months (concordance with Post_period)"
   ]
  },
  {
   "cell_type": "code",
   "execution_count": 0,
   "metadata": {
    "application/vnd.databricks.v1+cell": {
     "cellMetadata": {},
     "inputWidgets": {},
     "nuid": "ba39ec2c-c05b-40c2-8abf-c3f87d459bf2",
     "showTitle": false,
     "title": ""
    },
    "execution": {
     "iopub.execute_input": "2023-01-02T18:34:33.595418Z",
     "iopub.status.busy": "2023-01-02T18:34:33.595017Z",
     "iopub.status.idle": "2023-01-02T18:34:33.617166Z",
     "shell.execute_reply": "2023-01-02T18:34:33.615554Z"
    },
    "gather": {
     "logged": 1678815470749
    },
    "id": "oFl7U7DBvvKd",
    "outputId": "7c0a1607-ec0e-48aa-f8ce-9acbfb3502ef",
    "papermill": {
     "duration": 0.051061,
     "end_time": "2023-01-02T18:34:33.619511",
     "exception": false,
     "start_time": "2023-01-02T18:34:33.568450",
     "status": "completed"
    },
    "tags": []
   },
   "outputs": [],
   "source": [
    "sns.set(style=\"whitegrid\")\r\n",
    "fig, axes = plt.subplots(1, 3, figsize=(16,6),\r\n",
    "                      sharex=True,\r\n",
    "                      )\r\n",
    "sns.lineplot (ax=axes[0],data=data, x='Timestamp', y='Revenue' , color='orange',linewidth=2)\r\n",
    "sns.lineplot (ax=axes[1],data=data, x='Timestamp',y='COUNT_BR_NMBR', linewidth=2)\r\n",
    "sns.lineplot (ax=axes[2],data=data, x='Timestamp',y='COUNT_GC_ORG',color='black', linewidth=2)\r\n"
   ]
  },
  {
   "cell_type": "code",
   "execution_count": 0,
   "metadata": {
    "application/vnd.databricks.v1+cell": {
     "cellMetadata": {},
     "inputWidgets": {},
     "nuid": "67d42746-cfea-43a7-8994-8c14644d9759",
     "showTitle": false,
     "title": ""
    },
    "execution": {
     "iopub.execute_input": "2023-01-02T18:34:34.885785Z",
     "iopub.status.busy": "2023-01-02T18:34:34.885407Z",
     "iopub.status.idle": "2023-01-02T18:34:34.891794Z",
     "shell.execute_reply": "2023-01-02T18:34:34.890902Z"
    },
    "gather": {
     "logged": 1678815470955
    },
    "id": "YeSK8zb_G6so",
    "outputId": "f14e9b0e-5a1c-44f7-ab64-3ddf31ca2b0c",
    "papermill": {
     "duration": 0.035595,
     "end_time": "2023-01-02T18:34:34.893807",
     "exception": false,
     "start_time": "2023-01-02T18:34:34.858212",
     "status": "completed"
    },
    "tags": []
   },
   "outputs": [],
   "source": [
    "data.shape"
   ]
  },
  {
   "cell_type": "code",
   "execution_count": 0,
   "metadata": {
    "application/vnd.databricks.v1+cell": {
     "cellMetadata": {},
     "inputWidgets": {},
     "nuid": "b63762ab-4ab9-41f3-9019-953ad4e1d2ce",
     "showTitle": false,
     "title": ""
    },
    "execution": {
     "iopub.execute_input": "2023-01-02T18:34:34.947595Z",
     "iopub.status.busy": "2023-01-02T18:34:34.947198Z",
     "iopub.status.idle": "2023-01-02T18:34:34.960686Z",
     "shell.execute_reply": "2023-01-02T18:34:34.959292Z"
    },
    "gather": {
     "logged": 1678815471169
    },
    "id": "Roh4hg77Gnu-",
    "papermill": {
     "duration": 0.043542,
     "end_time": "2023-01-02T18:34:34.963206",
     "exception": false,
     "start_time": "2023-01-02T18:34:34.919664",
     "status": "completed"
    },
    "tags": []
   },
   "outputs": [],
   "source": [
    "numeric_col = ['Revenue','COUNT_BR_NMBR','COUNT_GC_ORG','POST_PERIOD']\n",
    "data_numeric = data[numeric_col].copy()"
   ]
  },
  {
   "cell_type": "code",
   "execution_count": 0,
   "metadata": {
    "application/vnd.databricks.v1+cell": {
     "cellMetadata": {},
     "inputWidgets": {},
     "nuid": "2fca1634-8a93-4cf8-8f06-fce19fd03a8a",
     "showTitle": false,
     "title": ""
    },
    "execution": {
     "iopub.execute_input": "2023-01-02T18:34:35.016476Z",
     "iopub.status.busy": "2023-01-02T18:34:35.016066Z",
     "iopub.status.idle": "2023-01-02T18:34:35.031320Z",
     "shell.execute_reply": "2023-01-02T18:34:35.030315Z"
    },
    "gather": {
     "logged": 1678815471415
    },
    "id": "Mr0ndx-uGu7X",
    "outputId": "2168e09e-71ec-4267-aa0a-8a0de1e3e065",
    "papermill": {
     "duration": 0.044395,
     "end_time": "2023-01-02T18:34:35.033249",
     "exception": false,
     "start_time": "2023-01-02T18:34:34.988854",
     "status": "completed"
    },
    "tags": []
   },
   "outputs": [],
   "source": [
    "data_numeric.head()"
   ]
  },
  {
   "cell_type": "code",
   "execution_count": 0,
   "metadata": {
    "application/vnd.databricks.v1+cell": {
     "cellMetadata": {},
     "inputWidgets": {},
     "nuid": "ee908b80-b8b1-4e31-941d-f3c8627d2232",
     "showTitle": false,
     "title": ""
    },
    "gather": {
     "logged": 1678815471631
    },
    "jupyter": {
     "outputs_hidden": false,
     "source_hidden": false
    },
    "nteract": {
     "transient": {
      "deleting": false
     }
    }
   },
   "outputs": [],
   "source": [
    "data.head()"
   ]
  },
  {
   "cell_type": "code",
   "execution_count": 0,
   "metadata": {
    "application/vnd.databricks.v1+cell": {
     "cellMetadata": {},
     "inputWidgets": {},
     "nuid": "8d38c3f9-cc2b-4dbd-b108-f5acc85e09d2",
     "showTitle": false,
     "title": ""
    },
    "execution": {
     "iopub.execute_input": "2023-01-02T18:34:41.802676Z",
     "iopub.status.busy": "2023-01-02T18:34:41.801381Z",
     "iopub.status.idle": "2023-01-02T18:34:47.307394Z",
     "shell.execute_reply": "2023-01-02T18:34:47.306630Z"
    },
    "gather": {
     "logged": 1678815471961
    },
    "id": "0gTUEPskw1Q6",
    "outputId": "22414fda-903c-439a-ab81-a1b2ed041781",
    "papermill": {
     "duration": 5.537308,
     "end_time": "2023-01-02T18:34:47.309341",
     "exception": false,
     "start_time": "2023-01-02T18:34:41.772033",
     "status": "completed"
    },
    "tags": []
   },
   "outputs": [],
   "source": [
    "#Revenue per FY\n",
    "plt.figure(figsize=(8,5))\n",
    "sns.barplot(x='FY',y='Revenue',data=data)\n",
    "plt.grid()\n",
    "plt.title('Revenue per FY', fontsize=10)\n",
    "plt.ylabel('Revenue', fontsize=10)\n",
    "plt.xlabel('FY', fontsize=10)\n",
    "\n",
    "plt.show()"
   ]
  },
  {
   "cell_type": "code",
   "execution_count": 0,
   "metadata": {
    "application/vnd.databricks.v1+cell": {
     "cellMetadata": {},
     "inputWidgets": {},
     "nuid": "bc3f29fd-c59f-459a-ad04-53b00690890a",
     "showTitle": false,
     "title": ""
    },
    "execution": {
     "iopub.execute_input": "2023-01-02T18:34:54.102189Z",
     "iopub.status.busy": "2023-01-02T18:34:54.101411Z",
     "iopub.status.idle": "2023-01-02T18:34:55.507239Z",
     "shell.execute_reply": "2023-01-02T18:34:55.505791Z"
    },
    "gather": {
     "logged": 1678815472244
    },
    "id": "faxJd2-XxLsk",
    "outputId": "a954a47e-0eed-44a1-b90c-9106d95497bc",
    "papermill": {
     "duration": 1.437474,
     "end_time": "2023-01-02T18:34:55.509775",
     "exception": false,
     "start_time": "2023-01-02T18:34:54.072301",
     "status": "completed"
    },
    "tags": []
   },
   "outputs": [],
   "source": [
    "# Effect of BR numbers on Revenue\n",
    "plt.figure(figsize=(5,5))\n",
    "sns.distplot( data['COUNT_BR_NMBR'] )\n",
    "plt.title('Effect of Number of BR',fontsize=15)\n",
    "plt.xlabel('COUNT_BR_NMBR',fontsize=14)\n",
    "plt.ylabel('Revenue',fontsize=14)\n",
    "plt.show()"
   ]
  },
  {
   "cell_type": "code",
   "execution_count": 0,
   "metadata": {
    "application/vnd.databricks.v1+cell": {
     "cellMetadata": {},
     "inputWidgets": {},
     "nuid": "dc89fd54-a236-480b-99af-98297a6be3b8",
     "showTitle": false,
     "title": ""
    },
    "gather": {
     "logged": 1678815472894
    },
    "jupyter": {
     "outputs_hidden": false,
     "source_hidden": false
    },
    "nteract": {
     "transient": {
      "deleting": false
     }
    }
   },
   "outputs": [],
   "source": [
    "# Effect of BR numbers on Revenue\r\n",
    "plt.figure(figsize=(5,5))\r\n",
    "sns.distplot(data['COUNT_GC_ORG'])\r\n",
    "plt.title('Effect of Number of organization',fontsize=15)\r\n",
    "plt.xlabel('COUNT_GC_ORG',fontsize=14)\r\n",
    "plt.ylabel('Revenue',fontsize=14)\r\n",
    "\r\n",
    "plt.show()"
   ]
  },
  {
   "cell_type": "markdown",
   "metadata": {
    "application/vnd.databricks.v1+cell": {
     "cellMetadata": {},
     "inputWidgets": {},
     "nuid": "826a1c70-be07-4daa-b3b3-32abd6050f1a",
     "showTitle": false,
     "title": ""
    },
    "nteract": {
     "transient": {
      "deleting": false
     }
    }
   },
   "source": [
    "# Time series decomposition\r\n",
    "Time Series Decomposition is a technique to extract multiple types of variation from your dataset. There are three important components in the temporal data of a time series: seasonality, trend, and noise.\r\n",
    "\r\n",
    "## Seasonality :\r\n",
    "is a recurring movement that is present in your time series variable. For example, the temperature of a place will be higher in the summer months and lower in the winter months. You could compute average monthly temperatures and use this seasonality as a basis for forecasting future values.\r\n",
    "## A trend :\r\n",
    "can be a long-term upward or downward pattern. In a temperature time series, a trend could be present due to global warming. For example, on top of the summer/winter seasonality, you may well see a slight increase in average temperatures over time.\r\n",
    "## Noise:\r\n",
    " is the part of the variability in a time series that can neither be explained by seasonality nor by a trend. When building models, you end up combining different components into a mathematical formula. Two parts of such a formula can be seasonality and trend. A model that combines both will never represent the values of temperature perfectly: an error will always remain. This is represented by the noise factor."
   ]
  },
  {
   "cell_type": "code",
   "execution_count": 0,
   "metadata": {
    "application/vnd.databricks.v1+cell": {
     "cellMetadata": {},
     "inputWidgets": {},
     "nuid": "e10a8752-830a-4809-9d8b-7279cde77337",
     "showTitle": false,
     "title": ""
    },
    "execution": {
     "iopub.execute_input": "2023-01-02T18:34:55.875374Z",
     "iopub.status.busy": "2023-01-02T18:34:55.875026Z",
     "iopub.status.idle": "2023-01-02T18:34:56.693135Z",
     "shell.execute_reply": "2023-01-02T18:34:56.692273Z"
    },
    "gather": {
     "logged": 1678815473874
    },
    "id": "A8I5DBElxm3O",
    "outputId": "b23979f1-d28e-4e43-e0ca-61d93abd3a99",
    "papermill": {
     "duration": 0.856061,
     "end_time": "2023-01-02T18:34:56.694978",
     "exception": false,
     "start_time": "2023-01-02T18:34:55.838917",
     "status": "completed"
    },
    "tags": []
   },
   "outputs": [],
   "source": [
    "# Time Series Decompose\n",
    "sm.tsa.seasonal_decompose(data['Revenue'], model='additive', period = 12).plot()\n",
    "#plt.savefig('seasonal_decompose.png')\n",
    "plt.show()"
   ]
  },
  {
   "cell_type": "code",
   "execution_count": 0,
   "metadata": {
    "application/vnd.databricks.v1+cell": {
     "cellMetadata": {},
     "inputWidgets": {},
     "nuid": "dc09b8db-e8c1-4fd7-b53c-b04bbf57041d",
     "showTitle": false,
     "title": ""
    },
    "gather": {
     "logged": 1678815475142
    },
    "jupyter": {
     "outputs_hidden": false,
     "source_hidden": false
    },
    "nteract": {
     "transient": {
      "deleting": false
     }
    }
   },
   "outputs": [],
   "source": [
    "# Time Series Decompose\r\n",
    "sm.tsa.seasonal_decompose(data['Revenue'], model='multiplicative', period = 12).plot()\r\n",
    "plt.show()"
   ]
  },
  {
   "cell_type": "markdown",
   "metadata": {
    "application/vnd.databricks.v1+cell": {
     "cellMetadata": {},
     "inputWidgets": {},
     "nuid": "85369c06-b5b2-4803-b0c4-dafbcd7e6a18",
     "showTitle": false,
     "title": ""
    },
    "id": "oso-TO8Fy50K",
    "papermill": {
     "duration": 0.02856,
     "end_time": "2023-01-02T18:34:56.752445",
     "exception": false,
     "start_time": "2023-01-02T18:34:56.723885",
     "status": "completed"
    },
    "tags": []
   },
   "source": [
    "### One Hot Encoding"
   ]
  },
  {
   "cell_type": "code",
   "execution_count": 0,
   "metadata": {
    "application/vnd.databricks.v1+cell": {
     "cellMetadata": {},
     "inputWidgets": {},
     "nuid": "dabce0b3-7e4f-45c9-84a1-db72892c27c3",
     "showTitle": false,
     "title": ""
    },
    "execution": {
     "iopub.execute_input": "2023-01-02T18:34:56.812180Z",
     "iopub.status.busy": "2023-01-02T18:34:56.811800Z",
     "iopub.status.idle": "2023-01-02T18:34:56.819341Z",
     "shell.execute_reply": "2023-01-02T18:34:56.818648Z"
    },
    "gather": {
     "logged": 1678815475400
    },
    "id": "8GmIwQX6xv1i",
    "outputId": "fa81110b-1eb6-47b5-bc7e-30adee5a4864",
    "papermill": {
     "duration": 0.039768,
     "end_time": "2023-01-02T18:34:56.821055",
     "exception": false,
     "start_time": "2023-01-02T18:34:56.781287",
     "status": "completed"
    },
    "tags": []
   },
   "outputs": [],
   "source": [
    "data.dtypes"
   ]
  },
  {
   "cell_type": "markdown",
   "metadata": {
    "application/vnd.databricks.v1+cell": {
     "cellMetadata": {},
     "inputWidgets": {},
     "nuid": "678eed55-efee-48b1-a6ab-9b1c213443e7",
     "showTitle": false,
     "title": ""
    },
    "id": "OVrTmo9izHqR",
    "papermill": {
     "duration": 0.029005,
     "end_time": "2023-01-02T18:34:56.878994",
     "exception": false,
     "start_time": "2023-01-02T18:34:56.849989",
     "status": "completed"
    },
    "tags": []
   },
   "source": [
    "Here, Store,Dept and Type columns are categorical columns."
   ]
  },
  {
   "cell_type": "code",
   "execution_count": 0,
   "metadata": {
    "application/vnd.databricks.v1+cell": {
     "cellMetadata": {},
     "inputWidgets": {},
     "nuid": "15313989-da9c-4d67-b712-673d44fab180",
     "showTitle": false,
     "title": ""
    },
    "execution": {
     "iopub.execute_input": "2023-01-02T18:34:56.939434Z",
     "iopub.status.busy": "2023-01-02T18:34:56.938838Z",
     "iopub.status.idle": "2023-01-02T18:34:56.964472Z",
     "shell.execute_reply": "2023-01-02T18:34:56.963578Z"
    },
    "gather": {
     "logged": 1678815475597
    },
    "id": "bTq3kYg4zCny",
    "outputId": "52d6ccb2-1243-42cd-fd90-3ec81bec27e9",
    "papermill": {
     "duration": 0.058084,
     "end_time": "2023-01-02T18:34:56.966420",
     "exception": false,
     "start_time": "2023-01-02T18:34:56.908336",
     "status": "completed"
    },
    "tags": []
   },
   "outputs": [],
   "source": [
    "cat_col = ['FY']\n",
    "data_cat = data[cat_col].copy()\n"
   ]
  },
  {
   "cell_type": "code",
   "execution_count": 0,
   "metadata": {
    "application/vnd.databricks.v1+cell": {
     "cellMetadata": {},
     "inputWidgets": {},
     "nuid": "e7275b49-82d3-40ff-b4c9-498d5a643fe0",
     "showTitle": false,
     "title": ""
    },
    "execution": {
     "iopub.execute_input": "2023-01-02T18:34:57.028814Z",
     "iopub.status.busy": "2023-01-02T18:34:57.028449Z",
     "iopub.status.idle": "2023-01-02T18:34:57.376392Z",
     "shell.execute_reply": "2023-01-02T18:34:57.375444Z"
    },
    "gather": {
     "logged": 1678815475817
    },
    "id": "cqNlr6ZqzYzg",
    "outputId": "6393ea2f-2630-4db1-f1ae-3afacf93331f",
    "papermill": {
     "duration": 0.381427,
     "end_time": "2023-01-02T18:34:57.378233",
     "exception": false,
     "start_time": "2023-01-02T18:34:56.996806",
     "status": "completed"
    },
    "tags": []
   },
   "outputs": [],
   "source": [
    "data_cat = pd.get_dummies(data_cat,columns=cat_col)\n",
    "data_cat.head()"
   ]
  },
  {
   "cell_type": "code",
   "execution_count": 0,
   "metadata": {
    "application/vnd.databricks.v1+cell": {
     "cellMetadata": {},
     "inputWidgets": {},
     "nuid": "bf5480ff-41f5-440b-8841-89a1113cc046",
     "showTitle": false,
     "title": ""
    },
    "execution": {
     "iopub.execute_input": "2023-01-02T18:34:57.510975Z",
     "iopub.status.busy": "2023-01-02T18:34:57.510061Z",
     "iopub.status.idle": "2023-01-02T18:34:57.535668Z",
     "shell.execute_reply": "2023-01-02T18:34:57.534462Z"
    },
    "gather": {
     "logged": 1678815476023
    },
    "id": "NN6O1irHzsky",
    "papermill": {
     "duration": 0.059693,
     "end_time": "2023-01-02T18:34:57.538083",
     "exception": false,
     "start_time": "2023-01-02T18:34:57.478390",
     "status": "completed"
    },
    "tags": []
   },
   "outputs": [],
   "source": [
    "data = pd.concat([data, data_cat],axis=1)"
   ]
  },
  {
   "cell_type": "code",
   "execution_count": 0,
   "metadata": {
    "application/vnd.databricks.v1+cell": {
     "cellMetadata": {},
     "inputWidgets": {},
     "nuid": "3f23980c-30fa-4ca4-aa77-fbaa92ac40d4",
     "showTitle": false,
     "title": ""
    },
    "execution": {
     "iopub.execute_input": "2023-01-02T18:34:57.599222Z",
     "iopub.status.busy": "2023-01-02T18:34:57.598821Z",
     "iopub.status.idle": "2023-01-02T18:34:57.605174Z",
     "shell.execute_reply": "2023-01-02T18:34:57.604324Z"
    },
    "gather": {
     "logged": 1678815476243
    },
    "id": "j2C9rAEAzwRA",
    "outputId": "a6a3642b-0fac-46c6-bdd1-32bd200bd5fd",
    "papermill": {
     "duration": 0.039063,
     "end_time": "2023-01-02T18:34:57.606972",
     "exception": false,
     "start_time": "2023-01-02T18:34:57.567909",
     "status": "completed"
    },
    "tags": []
   },
   "outputs": [],
   "source": [
    "data.shape"
   ]
  },
  {
   "cell_type": "code",
   "execution_count": 0,
   "metadata": {
    "application/vnd.databricks.v1+cell": {
     "cellMetadata": {},
     "inputWidgets": {},
     "nuid": "6bec0abb-51ee-4cd7-bcbd-9d846e4ac4a2",
     "showTitle": false,
     "title": ""
    },
    "execution": {
     "iopub.execute_input": "2023-01-02T18:34:57.669433Z",
     "iopub.status.busy": "2023-01-02T18:34:57.667903Z",
     "iopub.status.idle": "2023-01-02T18:34:57.731286Z",
     "shell.execute_reply": "2023-01-02T18:34:57.730243Z"
    },
    "gather": {
     "logged": 1678815476455
    },
    "id": "mhP3etIzzyen",
    "papermill": {
     "duration": 0.096856,
     "end_time": "2023-01-02T18:34:57.733704",
     "exception": false,
     "start_time": "2023-01-02T18:34:57.636848",
     "status": "completed"
    },
    "tags": []
   },
   "outputs": [],
   "source": [
    "data.drop(columns=cat_col,inplace=True)"
   ]
  },
  {
   "cell_type": "code",
   "execution_count": 0,
   "metadata": {
    "application/vnd.databricks.v1+cell": {
     "cellMetadata": {},
     "inputWidgets": {},
     "nuid": "b61a9331-8e86-4f99-a58f-ce13d3358a67",
     "showTitle": false,
     "title": ""
    },
    "execution": {
     "iopub.execute_input": "2023-01-02T18:34:57.905742Z",
     "iopub.status.busy": "2023-01-02T18:34:57.905383Z",
     "iopub.status.idle": "2023-01-02T18:34:57.913086Z",
     "shell.execute_reply": "2023-01-02T18:34:57.911705Z"
    },
    "gather": {
     "logged": 1678815476671
    },
    "id": "d_LpnWuPz4Il",
    "outputId": "14219da9-7836-4100-8f73-0a6f98c5af93",
    "papermill": {
     "duration": 0.041859,
     "end_time": "2023-01-02T18:34:57.915623",
     "exception": false,
     "start_time": "2023-01-02T18:34:57.873764",
     "status": "completed"
    },
    "tags": []
   },
   "outputs": [],
   "source": [
    "data.shape"
   ]
  },
  {
   "cell_type": "markdown",
   "metadata": {
    "application/vnd.databricks.v1+cell": {
     "cellMetadata": {},
     "inputWidgets": {},
     "nuid": "837ef5bc-b319-4a6e-a065-6635eb1d0731",
     "showTitle": false,
     "title": ""
    },
    "id": "SUPH0n5u0P29",
    "papermill": {
     "duration": 0.029589,
     "end_time": "2023-01-02T18:34:57.975347",
     "exception": false,
     "start_time": "2023-01-02T18:34:57.945758",
     "status": "completed"
    },
    "tags": []
   },
   "source": [
    "#### Data Normalization"
   ]
  },
  {
   "cell_type": "code",
   "execution_count": 0,
   "metadata": {
    "application/vnd.databricks.v1+cell": {
     "cellMetadata": {},
     "inputWidgets": {},
     "nuid": "9fcc49ce-298e-4e0d-bc2c-39fe6c3c9be0",
     "showTitle": false,
     "title": ""
    },
    "execution": {
     "iopub.execute_input": "2023-01-02T18:34:58.038598Z",
     "iopub.status.busy": "2023-01-02T18:34:58.038266Z",
     "iopub.status.idle": "2023-01-02T18:34:58.044880Z",
     "shell.execute_reply": "2023-01-02T18:34:58.042930Z"
    },
    "gather": {
     "logged": 1678815477181
    },
    "id": "gZ5OEMDH0JiB",
    "papermill": {
     "duration": 0.04172,
     "end_time": "2023-01-02T18:34:58.047967",
     "exception": false,
     "start_time": "2023-01-02T18:34:58.006247",
     "status": "completed"
    },
    "tags": []
   },
   "outputs": [],
   "source": [
    "num_col = ['Revenue','COUNT_BR_NMBR','COUNT_GC_ORG','POST_PERIOD']"
   ]
  },
  {
   "cell_type": "code",
   "execution_count": 0,
   "metadata": {
    "application/vnd.databricks.v1+cell": {
     "cellMetadata": {},
     "inputWidgets": {},
     "nuid": "b90e02a1-8092-43cc-952b-bcc49df681d4",
     "showTitle": false,
     "title": ""
    },
    "execution": {
     "iopub.execute_input": "2023-01-02T18:34:58.115765Z",
     "iopub.status.busy": "2023-01-02T18:34:58.115407Z",
     "iopub.status.idle": "2023-01-02T18:34:58.121270Z",
     "shell.execute_reply": "2023-01-02T18:34:58.120295Z"
    },
    "gather": {
     "logged": 1678815477384
    },
    "id": "-0B__6940T_d",
    "papermill": {
     "duration": 0.042226,
     "end_time": "2023-01-02T18:34:58.123713",
     "exception": false,
     "start_time": "2023-01-02T18:34:58.081487",
     "status": "completed"
    },
    "tags": []
   },
   "outputs": [],
   "source": [
    "#minmax_scale = MinMaxScaler(feature_range=(0, 1))\n",
    "#def normalization(data,col):\n",
    "  #for i in col:\n",
    "  #  arr = data[i]\n",
    "  #  arr = np.array(arr)\n",
    "  #  data[i] = minmax_scale.fit_transform(arr.reshape(len(arr),1))\n",
    "  #return data\n",
    "\n"
   ]
  },
  {
   "cell_type": "code",
   "execution_count": 0,
   "metadata": {
    "application/vnd.databricks.v1+cell": {
     "cellMetadata": {},
     "inputWidgets": {},
     "nuid": "39395bed-9490-4448-ab1e-0c07d0b503a1",
     "showTitle": false,
     "title": ""
    },
    "execution": {
     "iopub.execute_input": "2023-01-02T18:34:58.188602Z",
     "iopub.status.busy": "2023-01-02T18:34:58.188207Z",
     "iopub.status.idle": "2023-01-02T18:34:58.212351Z",
     "shell.execute_reply": "2023-01-02T18:34:58.211461Z"
    },
    "gather": {
     "logged": 1678815477603
    },
    "id": "vikDLoxK0WYd",
    "outputId": "33abdc17-ffc0-497f-a074-d53761207736",
    "papermill": {
     "duration": 0.059606,
     "end_time": "2023-01-02T18:34:58.214290",
     "exception": false,
     "start_time": "2023-01-02T18:34:58.154684",
     "status": "completed"
    },
    "tags": []
   },
   "outputs": [],
   "source": [
    "#data = normalization(data.copy(),num_col)\r\n",
    "data.head()"
   ]
  },
  {
   "cell_type": "code",
   "execution_count": 0,
   "metadata": {
    "application/vnd.databricks.v1+cell": {
     "cellMetadata": {},
     "inputWidgets": {},
     "nuid": "1467a60f-ba61-4fd4-8926-1294e4edf618",
     "showTitle": false,
     "title": ""
    },
    "gather": {
     "logged": 1678815477804
    },
    "jupyter": {
     "outputs_hidden": false,
     "source_hidden": false
    },
    "nteract": {
     "transient": {
      "deleting": false
     }
    }
   },
   "outputs": [],
   "source": [
    "# inverse transform \r\n",
    "\r\n",
    "#def invert_normalization(data,col):\r\n",
    "  #for i in col:\r\n",
    "    #arr = data[i]\r\n",
    "    #print(data[i])\r\n",
    "    #arr = np.array(arr)\r\n",
    "    #data[i] = minmax_scale.inverse_transform(arr.reshape(len(arr),1))\r\n",
    "    #print(data[i])\r\n",
    "  #return data\r\n",
    "\r\n",
    "#test_data= invert_normalization(data, num_col)\r\n",
    "#test_data.head(12)"
   ]
  },
  {
   "cell_type": "markdown",
   "metadata": {
    "application/vnd.databricks.v1+cell": {
     "cellMetadata": {},
     "inputWidgets": {},
     "nuid": "23fbb682-6ee6-451e-a455-7206f68aa598",
     "showTitle": false,
     "title": ""
    },
    "id": "FnTud8vW0oyf",
    "papermill": {
     "duration": 0.030582,
     "end_time": "2023-01-02T18:34:58.413980",
     "exception": false,
     "start_time": "2023-01-02T18:34:58.383398",
     "status": "completed"
    },
    "tags": []
   },
   "source": [
    "**Finding Correlation between features**"
   ]
  },
  {
   "cell_type": "code",
   "execution_count": 0,
   "metadata": {
    "application/vnd.databricks.v1+cell": {
     "cellMetadata": {},
     "inputWidgets": {},
     "nuid": "23625472-0560-41b6-8e3b-bbb3a5390b7c",
     "showTitle": false,
     "title": ""
    },
    "execution": {
     "iopub.execute_input": "2023-01-02T18:34:58.477525Z",
     "iopub.status.busy": "2023-01-02T18:34:58.477161Z",
     "iopub.status.idle": "2023-01-02T18:34:59.725715Z",
     "shell.execute_reply": "2023-01-02T18:34:59.724339Z"
    },
    "gather": {
     "logged": 1678815478124
    },
    "id": "wjPPIuwD0h9J",
    "outputId": "6b083a5d-469d-4910-f925-c610169d0044",
    "papermill": {
     "duration": 1.28354,
     "end_time": "2023-01-02T18:34:59.728353",
     "exception": false,
     "start_time": "2023-01-02T18:34:58.444813",
     "status": "completed"
    },
    "tags": []
   },
   "outputs": [],
   "source": [
    "plt.figure(figsize=(15,8))\n",
    "corr = data[num_col].corr()\n",
    "sns.heatmap(corr,vmax=1.0,annot=True)\n",
    "plt.title('Correlation Matrix',fontsize=16)\n",
    "plt.savefig('correlation_matrix.png')\n",
    "plt.show()"
   ]
  },
  {
   "cell_type": "markdown",
   "metadata": {
    "application/vnd.databricks.v1+cell": {
     "cellMetadata": {},
     "inputWidgets": {},
     "nuid": "30ee4a54-b20b-470e-ad3f-0a4b3dc21f4b",
     "showTitle": false,
     "title": ""
    },
    "id": "Lg7Ev3MWl5r9",
    "papermill": {
     "duration": 0.033084,
     "end_time": "2023-01-02T18:37:46.899837",
     "exception": false,
     "start_time": "2023-01-02T18:37:46.866753",
     "status": "completed"
    },
    "tags": []
   },
   "source": [
    "# Building the models and use of regression metrics (predicting in a continuous range)"
   ]
  },
  {
   "cell_type": "markdown",
   "metadata": {
    "application/vnd.databricks.v1+cell": {
     "cellMetadata": {},
     "inputWidgets": {},
     "nuid": "58eadbf4-7e5c-4310-b2f0-0baefa22058a",
     "showTitle": false,
     "title": ""
    },
    "id": "VCXK7LsE52xX",
    "papermill": {
     "duration": 0.033117,
     "end_time": "2023-01-02T18:37:46.965733",
     "exception": false,
     "start_time": "2023-01-02T18:37:46.932616",
     "status": "completed"
    },
    "tags": []
   },
   "source": [
    "**Splitting data into train and test data**"
   ]
  },
  {
   "cell_type": "markdown",
   "metadata": {
    "application/vnd.databricks.v1+cell": {
     "cellMetadata": {},
     "inputWidgets": {},
     "nuid": "68443367-7699-4f8b-ab1d-193563a74df7",
     "showTitle": false,
     "title": ""
    },
    "nteract": {
     "transient": {
      "deleting": false
     }
    }
   },
   "source": [
    "## Prepare data frame for time-series split\r\n",
    "Set the data frame index to be time if it is not so.\r\n",
    "Sort time frame by time: it is important to sort dataframe by time before the time series split\r\n",
    "prepare features dataframe (X) and target (y) as data series"
   ]
  },
  {
   "cell_type": "code",
   "execution_count": 0,
   "metadata": {
    "application/vnd.databricks.v1+cell": {
     "cellMetadata": {},
     "inputWidgets": {},
     "nuid": "11515ed3-9a41-44ed-a7cd-af7f0e0a4345",
     "showTitle": false,
     "title": ""
    },
    "execution": {
     "iopub.execute_input": "2023-01-02T18:37:47.035785Z",
     "iopub.status.busy": "2023-01-02T18:37:47.034885Z",
     "iopub.status.idle": "2023-01-02T18:37:47.071352Z",
     "shell.execute_reply": "2023-01-02T18:37:47.070263Z"
    },
    "gather": {
     "logged": 1678815478328
    },
    "id": "znI8YIV95TAj",
    "papermill": {
     "duration": 0.074527,
     "end_time": "2023-01-02T18:37:47.073933",
     "exception": false,
     "start_time": "2023-01-02T18:37:46.999406",
     "status": "completed"
    },
    "tags": []
   },
   "outputs": [],
   "source": [
    "from sklearn.model_selection import TimeSeriesSplit\n",
    "\n",
    "\n",
    "tss = TimeSeriesSplit(n_splits = 5)\n",
    "X = data.drop(['Revenue'],axis=1)\n",
    "Y = data.Revenue\n",
    "\n",
    "# Just to see how the TimeSeriesSplit is dividing the traning and test sets \n",
    "\n",
    "for fold, (train_index, test_index) in enumerate(tss.split(X)):\n",
    "    print(\"Fold: {}\".format(fold))\n",
    "    print(\"TRAIN indices:\", train_index, \"\\n\", \"TEST indices:\", test_index)\n",
    "    print(\"\\n\")\n",
    "    X_train, X_test = X.iloc[train_index, :], X.iloc[test_index,:]\n",
    "    y_train, y_test = Y.iloc[train_index], Y.iloc[test_index]\n"
   ]
  },
  {
   "cell_type": "markdown",
   "metadata": {
    "application/vnd.databricks.v1+cell": {
     "cellMetadata": {},
     "inputWidgets": {},
     "nuid": "77657757-112a-4a64-b857-77bf425d1b69",
     "showTitle": false,
     "title": ""
    },
    "nteract": {
     "transient": {
      "deleting": false
     }
    }
   },
   "source": [
    "## Split train test sets for both features and targets\r\n",
    "time-series class (tss) class returns two arrays to mark train and test sets"
   ]
  },
  {
   "cell_type": "markdown",
   "metadata": {
    "application/vnd.databricks.v1+cell": {
     "cellMetadata": {},
     "inputWidgets": {},
     "nuid": "6135b8d6-2f0d-41d3-a50d-de0c426e2e72",
     "showTitle": false,
     "title": ""
    },
    "nteract": {
     "transient": {
      "deleting": false
     }
    }
   },
   "source": [
    "In time series split, testing sets are always “younger” or later than training sets. The randomness comes from the sizes of training and testing sets.\r\n",
    "Split train test sets for both features and targets\r\n",
    "time-series class (tss) class returns two arrays to mark train and test sets"
   ]
  },
  {
   "cell_type": "code",
   "execution_count": 0,
   "metadata": {
    "application/vnd.databricks.v1+cell": {
     "cellMetadata": {},
     "inputWidgets": {},
     "nuid": "155477c4-6003-4b02-ac71-dccfe1e245af",
     "showTitle": false,
     "title": ""
    },
    "execution": {
     "iopub.execute_input": "2023-01-02T18:37:47.142721Z",
     "iopub.status.busy": "2023-01-02T18:37:47.142342Z",
     "iopub.status.idle": "2023-01-02T18:37:47.249260Z",
     "shell.execute_reply": "2023-01-02T18:37:47.248214Z"
    },
    "gather": {
     "logged": 1678815478526
    },
    "id": "F0LAT4NV6DCu",
    "papermill": {
     "duration": 0.144277,
     "end_time": "2023-01-02T18:37:47.251638",
     "exception": false,
     "start_time": "2023-01-02T18:37:47.107361",
     "status": "completed"
    },
    "tags": []
   },
   "outputs": [],
   "source": [
    "# X_train,X_test,y_train,y_test = train_test_split(X,Y,test_size=0.30, random_state=50)"
   ]
  },
  {
   "cell_type": "markdown",
   "metadata": {
    "application/vnd.databricks.v1+cell": {
     "cellMetadata": {},
     "inputWidgets": {},
     "nuid": "dc15395a-cdad-4b7f-8eff-40039ad70916",
     "showTitle": false,
     "title": ""
    },
    "id": "W6592qmQ6LTB",
    "papermill": {
     "duration": 0.032589,
     "end_time": "2023-01-02T18:37:47.316743",
     "exception": false,
     "start_time": "2023-01-02T18:37:47.284154",
     "status": "completed"
    },
    "tags": []
   },
   "source": [
    "## 1. Linear Regression Model"
   ]
  },
  {
   "cell_type": "code",
   "execution_count": 0,
   "metadata": {
    "application/vnd.databricks.v1+cell": {
     "cellMetadata": {},
     "inputWidgets": {},
     "nuid": "57c788af-c902-4f44-9141-a53575e25d16",
     "showTitle": false,
     "title": ""
    },
    "execution": {
     "iopub.execute_input": "2023-01-02T18:37:47.385688Z",
     "iopub.status.busy": "2023-01-02T18:37:47.385026Z",
     "iopub.status.idle": "2023-01-02T18:37:47.551842Z",
     "shell.execute_reply": "2023-01-02T18:37:47.551115Z"
    },
    "gather": {
     "logged": 1678815478725
    },
    "id": "0GY-zstA6IgS",
    "outputId": "7b44639d-42e7-4c6e-ad5d-3302a4f67de9",
    "papermill": {
     "duration": 0.204705,
     "end_time": "2023-01-02T18:37:47.553692",
     "exception": false,
     "start_time": "2023-01-02T18:37:47.348987",
     "status": "completed"
    },
    "tags": []
   },
   "outputs": [],
   "source": [
    "from sklearn.model_selection import cross_val_score\n",
    "from sklearn.compose import TransformedTargetRegressor\n",
    "\n",
    "regressor = LinearRegression()\n",
    "for fold, (train_index, test_index) in enumerate(tss.split(X)):\n",
    "    X_train, X_test = X.iloc[train_index, :], X.iloc[test_index,:]\n",
    "    y_train, y_test = Y.iloc[train_index], Y.iloc[test_index]\n",
    "    # lr.fit(X_train, y_train)\n",
    "    lr = TransformedTargetRegressor(regressor= regressor,\n",
    "                                        transformer = MinMaxScaler()\n",
    "                                        ).fit(X_train,y_train)\n",
    "\n",
    "\n"
   ]
  },
  {
   "cell_type": "markdown",
   "metadata": {
    "application/vnd.databricks.v1+cell": {
     "cellMetadata": {},
     "inputWidgets": {},
     "nuid": "c91f1d49-822c-471b-907a-a8ab23abfeb9",
     "showTitle": false,
     "title": ""
    },
    "nteract": {
     "transient": {
      "deleting": false
     }
    }
   },
   "source": [
    "## Metrics using Time serie Cross-validation"
   ]
  },
  {
   "cell_type": "code",
   "execution_count": 0,
   "metadata": {
    "application/vnd.databricks.v1+cell": {
     "cellMetadata": {},
     "inputWidgets": {},
     "nuid": "be47eac3-e620-4a00-8ba5-c3efee56ed1e",
     "showTitle": false,
     "title": ""
    },
    "gather": {
     "logged": 1678815478922
    },
    "jupyter": {
     "outputs_hidden": false,
     "source_hidden": false
    },
    "nteract": {
     "transient": {
      "deleting": false
     }
    }
   },
   "outputs": [],
   "source": [
    "\r\n",
    "linear_regression_RMSE = np.sqrt(-cross_val_score(lr, X, Y, cv=tss, scoring='neg_mean_squared_error'))\r\n",
    "linear_regression_MSE = -cross_val_score(lr, X, Y, cv=tss, scoring='neg_mean_squared_error')\r\n",
    "linear_regression_MAE = -cross_val_score(lr, X, Y, cv=tss, scoring='neg_mean_absolute_error')\r\n",
    "linear_regression_R2 = cross_val_score(lr, X, Y, cv=tss, scoring='r2')\r\n",
    "\r\n",
    "scores = cross_val_score(lr, X, Y,cv=tss)\r\n",
    "print(\"Mean cross-validation score: %.2f\" % scores.mean())\r\n",
    "\r\n",
    "print(f\"RMSE: {linear_regression_RMSE.mean()} (+/- {linear_regression_RMSE.std()}\")\r\n",
    "print(f\"\\nMSE: {linear_regression_MSE.mean()} (+/- {linear_regression_MSE.std()}\")\r\n",
    "print(f\"\\nMAE: {linear_regression_MAE.mean()} (+/- {linear_regression_MAE.std()}\")\r\n",
    "print(f\"\\nR2: {linear_regression_R2.mean()} (+/- {linear_regression_R2.std()}\")"
   ]
  },
  {
   "cell_type": "code",
   "execution_count": 0,
   "metadata": {
    "application/vnd.databricks.v1+cell": {
     "cellMetadata": {},
     "inputWidgets": {},
     "nuid": "63a9c895-f6d4-4f23-84bf-920b2b2b21a8",
     "showTitle": false,
     "title": ""
    },
    "execution": {
     "iopub.execute_input": "2023-01-02T18:37:47.935549Z",
     "iopub.status.busy": "2023-01-02T18:37:47.935168Z",
     "iopub.status.idle": "2023-01-02T18:37:47.945136Z",
     "shell.execute_reply": "2023-01-02T18:37:47.944459Z"
    },
    "gather": {
     "logged": 1678815479404
    },
    "id": "9HYgRD34bsq0",
    "outputId": "2bb55c86-a30a-418e-8b69-e33f762f4d6a",
    "papermill": {
     "duration": 0.04509,
     "end_time": "2023-01-02T18:37:47.946806",
     "exception": false,
     "start_time": "2023-01-02T18:37:47.901716",
     "status": "completed"
    },
    "tags": []
   },
   "outputs": [],
   "source": [
    "#make prediction with the last test set\n",
    "y_pred = lr.predict(X_test)\n",
    "lr_df = pd.DataFrame({'Actual': y_test, 'Predicted': y_pred})\n",
    "lr_df.head()\n"
   ]
  },
  {
   "cell_type": "code",
   "execution_count": 0,
   "metadata": {
    "application/vnd.databricks.v1+cell": {
     "cellMetadata": {},
     "inputWidgets": {},
     "nuid": "624847fe-7dce-407d-a2db-4d57cf01b5f1",
     "showTitle": false,
     "title": ""
    },
    "execution": {
     "iopub.execute_input": "2023-01-02T18:37:48.015702Z",
     "iopub.status.busy": "2023-01-02T18:37:48.014626Z",
     "iopub.status.idle": "2023-01-02T18:37:48.198857Z",
     "shell.execute_reply": "2023-01-02T18:37:48.197517Z"
    },
    "gather": {
     "logged": 1678815480185
    },
    "id": "ZslWpRxcbyTR",
    "outputId": "4d3a26ce-5933-4895-a1f8-caa2bd6fe1b0",
    "papermill": {
     "duration": 0.221321,
     "end_time": "2023-01-02T18:37:48.201038",
     "exception": false,
     "start_time": "2023-01-02T18:37:47.979717",
     "status": "completed"
    },
    "tags": []
   },
   "outputs": [],
   "source": [
    "plt.figure(figsize=(16,8))\n",
    "plt.title('Comparison between actual and predicted values',fontsize=16)\n",
    "plt.plot(lr.predict(X_test), label=\"prediction\", linewidth=3.0,color='blue')\n",
    "plt.plot(y_test.values, label=\"real_values\", linewidth=3.0,color='red')\n",
    "plt.legend(loc=\"best\")\n",
    "plt.show()"
   ]
  },
  {
   "cell_type": "markdown",
   "metadata": {
    "application/vnd.databricks.v1+cell": {
     "cellMetadata": {},
     "inputWidgets": {},
     "nuid": "afa84d1f-6b8f-4aea-8f99-d56e3012e5d7",
     "showTitle": false,
     "title": ""
    },
    "id": "_xGAlZmOqgI8",
    "papermill": {
     "duration": 0.03435,
     "end_time": "2023-01-02T18:37:48.269750",
     "exception": false,
     "start_time": "2023-01-02T18:37:48.235400",
     "status": "completed"
    },
    "tags": []
   },
   "source": [
    "# 2. Random Forest Regressor"
   ]
  },
  {
   "cell_type": "code",
   "execution_count": 0,
   "metadata": {
    "application/vnd.databricks.v1+cell": {
     "cellMetadata": {},
     "inputWidgets": {},
     "nuid": "ae5361ee-fdb3-41a3-b45d-983857b2ef7d",
     "showTitle": false,
     "title": ""
    },
    "execution": {
     "iopub.execute_input": "2023-01-02T18:37:48.340236Z",
     "iopub.status.busy": "2023-01-02T18:37:48.339824Z",
     "iopub.status.idle": "2023-01-02T18:42:55.889387Z",
     "shell.execute_reply": "2023-01-02T18:42:55.888446Z"
    },
    "gather": {
     "logged": 1678815480525
    },
    "id": "oR1C4_MPb2hv",
    "outputId": "c0b22f8f-06fa-4f18-cda1-c183b46e67b3",
    "papermill": {
     "duration": 307.623296,
     "end_time": "2023-01-02T18:42:55.927633",
     "exception": false,
     "start_time": "2023-01-02T18:37:48.304337",
     "status": "completed"
    },
    "tags": []
   },
   "outputs": [],
   "source": [
    "\n",
    "regressor = RandomForestRegressor()\n",
    "for train_index, test_index in tss.split(X):\n",
    "    X_train, X_test = X.iloc[train_index, :], X.iloc[test_index,:]\n",
    "    y_train, y_test = Y.iloc[train_index], Y.iloc[test_index]\n",
    "    rf = TransformedTargetRegressor(regressor= regressor,\n",
    "                                        transformer = MinMaxScaler()\n",
    "                                        ).fit(X_train,y_train)\n",
    "    #rf.fit(X_train, y_train)"
   ]
  },
  {
   "cell_type": "code",
   "execution_count": 0,
   "metadata": {
    "application/vnd.databricks.v1+cell": {
     "cellMetadata": {},
     "inputWidgets": {},
     "nuid": "30a7666e-e3ef-4b6c-811f-9ebaf8b8b9bd",
     "showTitle": false,
     "title": ""
    },
    "execution": {
     "iopub.execute_input": "2023-01-02T18:43:00.756689Z",
     "iopub.status.busy": "2023-01-02T18:43:00.756358Z",
     "iopub.status.idle": "2023-01-02T18:43:05.785293Z",
     "shell.execute_reply": "2023-01-02T18:43:05.784519Z"
    },
    "gather": {
     "logged": 1678815482872
    },
    "id": "2J0XW38Vb8OW",
    "papermill": {
     "duration": 5.068306,
     "end_time": "2023-01-02T18:43:05.787461",
     "exception": false,
     "start_time": "2023-01-02T18:43:00.719155",
     "status": "completed"
    },
    "tags": []
   },
   "outputs": [],
   "source": [
    "random_forest_RMSE = np.sqrt(-cross_val_score(rf, X, Y, cv=tss, scoring='neg_mean_squared_error'))\r\n",
    "random_forest_MSE = -cross_val_score(rf, X, Y, cv=tss, scoring='neg_mean_squared_error')\r\n",
    "random_forest_MAE = -cross_val_score(rf, X, Y, cv=tss, scoring='neg_mean_absolute_error')\r\n",
    "random_forest_R2 = cross_val_score(rf, X, Y, cv=tss, scoring='r2')\r\n",
    "\r\n",
    "print(f\"RMSE: {random_forest_RMSE.mean()} (+/- {random_forest_RMSE.std()}\")\r\n",
    "print(f\"\\nMSE: {random_forest_MSE.mean()} (+/- {random_forest_MSE.std()}\")\r\n",
    "print(f\"\\nMAE: {random_forest_MAE.mean()} (+/- {random_forest_MAE.std()}\")\r\n",
    "print(f\"\\nR2: {random_forest_R2.mean()} (+/- {random_forest_R2.std()}\")"
   ]
  },
  {
   "cell_type": "code",
   "execution_count": 0,
   "metadata": {
    "application/vnd.databricks.v1+cell": {
     "cellMetadata": {},
     "inputWidgets": {},
     "nuid": "07ef7392-67af-4110-902a-b669ea6d9871",
     "showTitle": false,
     "title": ""
    },
    "execution": {
     "iopub.execute_input": "2023-01-02T18:43:05.945023Z",
     "iopub.status.busy": "2023-01-02T18:43:05.944614Z",
     "iopub.status.idle": "2023-01-02T18:43:05.956485Z",
     "shell.execute_reply": "2023-01-02T18:43:05.955090Z"
    },
    "gather": {
     "logged": 1678815483118
    },
    "id": "eA8cfCiEcB9B",
    "outputId": "3ed003c3-cd8e-4d2f-86b0-66192559650d",
    "papermill": {
     "duration": 0.05183,
     "end_time": "2023-01-02T18:43:05.959121",
     "exception": false,
     "start_time": "2023-01-02T18:43:05.907291",
     "status": "completed"
    },
    "tags": []
   },
   "outputs": [],
   "source": [
    "#make prediction with the last test set\n",
    "y_pred = rf.predict(X_test)\n",
    "rf_df = pd.DataFrame({'Actual': y_test, 'Predicted': y_pred})\n",
    "rf_df.head()"
   ]
  },
  {
   "cell_type": "code",
   "execution_count": 0,
   "metadata": {
    "application/vnd.databricks.v1+cell": {
     "cellMetadata": {},
     "inputWidgets": {},
     "nuid": "e149b8f0-9dcc-49c1-aeae-ac2fd201b5c6",
     "showTitle": false,
     "title": ""
    },
    "execution": {
     "iopub.execute_input": "2023-01-02T18:43:06.038061Z",
     "iopub.status.busy": "2023-01-02T18:43:06.037517Z",
     "iopub.status.idle": "2023-01-02T18:43:06.332990Z",
     "shell.execute_reply": "2023-01-02T18:43:06.331459Z"
    },
    "gather": {
     "logged": 1678815483621
    },
    "id": "Oi676Tc7cCyz",
    "outputId": "8378c4e0-b38a-4bd9-8e6b-ea4dd2bc259c",
    "papermill": {
     "duration": 0.34149,
     "end_time": "2023-01-02T18:43:06.335906",
     "exception": false,
     "start_time": "2023-01-02T18:43:05.994416",
     "status": "completed"
    },
    "tags": []
   },
   "outputs": [],
   "source": [
    "plt.figure(figsize=(16,8))\n",
    "plt.title('Comparison between actual and predicted values',fontsize=16)\n",
    "plt.plot(rf.predict(X_test), label=\"prediction\", linewidth=3.0,color='blue')\n",
    "plt.plot(y_test.values, label=\"real_values\", linewidth=3.0,color='red')\n",
    "plt.legend(loc=\"best\")\n",
    "# plt.savefig('rf_real_pred.png')\n",
    "plt.show()"
   ]
  },
  {
   "cell_type": "markdown",
   "metadata": {
    "application/vnd.databricks.v1+cell": {
     "cellMetadata": {},
     "inputWidgets": {},
     "nuid": "fa578196-b125-400d-a6a6-c7bc5928998d",
     "showTitle": false,
     "title": ""
    },
    "id": "3dBKJRERtnh2",
    "papermill": {
     "duration": 0.036562,
     "end_time": "2023-01-02T18:43:06.409445",
     "exception": false,
     "start_time": "2023-01-02T18:43:06.372883",
     "status": "completed"
    },
    "tags": []
   },
   "source": [
    "# 3.   KNeighborsRegressor (KNN)"
   ]
  },
  {
   "cell_type": "code",
   "execution_count": 0,
   "metadata": {
    "application/vnd.databricks.v1+cell": {
     "cellMetadata": {},
     "inputWidgets": {},
     "nuid": "40118be8-831a-487e-abac-178d15f61c26",
     "showTitle": false,
     "title": ""
    },
    "execution": {
     "iopub.execute_input": "2023-01-02T18:43:06.483784Z",
     "iopub.status.busy": "2023-01-02T18:43:06.483395Z",
     "iopub.status.idle": "2023-01-02T18:43:06.509239Z",
     "shell.execute_reply": "2023-01-02T18:43:06.508273Z"
    },
    "gather": {
     "logged": 1678815483828
    },
    "id": "YmsO2sr6cHoE",
    "outputId": "4e5b9c53-e734-4511-c128-877e860cf6c9",
    "papermill": {
     "duration": 0.065301,
     "end_time": "2023-01-02T18:43:06.511141",
     "exception": false,
     "start_time": "2023-01-02T18:43:06.445840",
     "status": "completed"
    },
    "tags": []
   },
   "outputs": [],
   "source": [
    "regressor = KNeighborsRegressor(n_neighbors = 1,weights = 'uniform')\n",
    "\n",
    "for train_index, test_index in tss.split(X):\n",
    "    X_train, X_test = X.iloc[train_index, :], X.iloc[test_index,:]\n",
    "    y_train, y_test = Y.iloc[train_index], Y.iloc[test_index]\n",
    "    knn = TransformedTargetRegressor(regressor= regressor,\n",
    "                                        transformer = MinMaxScaler()\n",
    "                                        ).fit(X_train,y_train)\n",
    "    #knn.fit(X_train,y_train)"
   ]
  },
  {
   "cell_type": "code",
   "execution_count": 0,
   "metadata": {
    "application/vnd.databricks.v1+cell": {
     "cellMetadata": {},
     "inputWidgets": {},
     "nuid": "3be16700-ca26-4bbc-bf8c-c094b4ff8c30",
     "showTitle": false,
     "title": ""
    },
    "execution": {
     "iopub.execute_input": "2023-01-02T18:45:21.227812Z",
     "iopub.status.busy": "2023-01-02T18:45:21.227509Z",
     "iopub.status.idle": "2023-01-02T18:47:36.003341Z",
     "shell.execute_reply": "2023-01-02T18:47:36.002444Z"
    },
    "gather": {
     "logged": 1678815484034
    },
    "id": "6TP4q58rcMse",
    "papermill": {
     "duration": 134.871135,
     "end_time": "2023-01-02T18:47:36.005831",
     "exception": false,
     "start_time": "2023-01-02T18:45:21.134696",
     "status": "completed"
    },
    "tags": []
   },
   "outputs": [],
   "source": [
    "knn_RMSE = np.sqrt(-cross_val_score(knn, X, Y, cv=tss, scoring='neg_mean_squared_error'))\r\n",
    "knn_MSE = -cross_val_score(knn, X, Y, cv=tss, scoring='neg_mean_squared_error')\r\n",
    "knn_MAE = -cross_val_score(knn, X, Y, cv=tss, scoring='neg_mean_absolute_error')\r\n",
    "knn_R2 = cross_val_score(knn, X, Y, cv=tss, scoring='r2')\r\n",
    "\r\n",
    "print(f\"RMSE: {knn_RMSE.mean()} (+/- {knn_RMSE.std()}\")\r\n",
    "print(f\"\\nMSE: {knn_MSE.mean()} (+/- {knn_MSE.std()}\")\r\n",
    "print(f\"\\nMAE: {knn_MAE.mean()} (+/- {knn_MAE.std()}\")\r\n",
    "print(f\"\\nR2: {knn_R2.mean()} (+/- {knn_R2.std()}\")"
   ]
  },
  {
   "cell_type": "code",
   "execution_count": 0,
   "metadata": {
    "application/vnd.databricks.v1+cell": {
     "cellMetadata": {},
     "inputWidgets": {},
     "nuid": "40adb0a1-ecdf-46f8-be2a-32c080bd957b",
     "showTitle": false,
     "title": ""
    },
    "execution": {
     "iopub.execute_input": "2023-01-02T18:47:36.181609Z",
     "iopub.status.busy": "2023-01-02T18:47:36.180925Z",
     "iopub.status.idle": "2023-01-02T18:47:36.190957Z",
     "shell.execute_reply": "2023-01-02T18:47:36.190199Z"
    },
    "gather": {
     "logged": 1678815484253
    },
    "id": "INbja038cRxB",
    "outputId": "aa23af8d-96a2-480b-8ead-be4252ba2129",
    "papermill": {
     "duration": 0.050234,
     "end_time": "2023-01-02T18:47:36.192807",
     "exception": false,
     "start_time": "2023-01-02T18:47:36.142573",
     "status": "completed"
    },
    "tags": []
   },
   "outputs": [],
   "source": [
    "#make prediction with the last test set\n",
    "y_pred = knn.predict(X_test)\n",
    "knn_df = pd.DataFrame({'Actual': y_test, 'Predicted': y_pred})\n",
    "knn_df.head()"
   ]
  },
  {
   "cell_type": "code",
   "execution_count": 0,
   "metadata": {
    "application/vnd.databricks.v1+cell": {
     "cellMetadata": {},
     "inputWidgets": {},
     "nuid": "4779920b-f010-42c1-a231-5621dcaef527",
     "showTitle": false,
     "title": ""
    },
    "execution": {
     "iopub.execute_input": "2023-01-02T18:47:36.270846Z",
     "iopub.status.busy": "2023-01-02T18:47:36.269988Z",
     "iopub.status.idle": "2023-01-02T18:47:36.679529Z",
     "shell.execute_reply": "2023-01-02T18:47:36.678328Z"
    },
    "gather": {
     "logged": 1678815484543
    },
    "id": "MwxdaUEPcUsY",
    "outputId": "82444ba2-f7c3-4f2c-b851-a788ee8e6aac",
    "papermill": {
     "duration": 0.452055,
     "end_time": "2023-01-02T18:47:36.681483",
     "exception": false,
     "start_time": "2023-01-02T18:47:36.229428",
     "status": "completed"
    },
    "tags": []
   },
   "outputs": [],
   "source": [
    "plt.figure(figsize=(16,8))\n",
    "plt.title('Comparison between actual and predicted values',fontsize=16)\n",
    "plt.plot(knn.predict(X_test), label=\"prediction\", linewidth=3.0,color='blue')\n",
    "plt.plot(y_test.values, label=\"real_values\", linewidth=3.0,color='red')\n",
    "plt.legend(loc=\"best\")\n",
    "plt.show()"
   ]
  },
  {
   "cell_type": "markdown",
   "metadata": {
    "application/vnd.databricks.v1+cell": {
     "cellMetadata": {},
     "inputWidgets": {},
     "nuid": "741102be-ac93-468c-ae80-6ef4de9330ff",
     "showTitle": false,
     "title": ""
    },
    "id": "6jhUGYY1t4Sy",
    "papermill": {
     "duration": 0.037473,
     "end_time": "2023-01-02T18:47:36.756645",
     "exception": false,
     "start_time": "2023-01-02T18:47:36.719172",
     "status": "completed"
    },
    "tags": []
   },
   "source": [
    "# 4. XGBoost Regressor"
   ]
  },
  {
   "cell_type": "code",
   "execution_count": 0,
   "metadata": {
    "application/vnd.databricks.v1+cell": {
     "cellMetadata": {},
     "inputWidgets": {},
     "nuid": "7ac493f7-7bbc-4321-aa4a-3ee93108e1ea",
     "showTitle": false,
     "title": ""
    },
    "execution": {
     "iopub.execute_input": "2023-01-02T18:47:36.832734Z",
     "iopub.status.busy": "2023-01-02T18:47:36.832153Z",
     "iopub.status.idle": "2023-01-02T18:47:58.171418Z",
     "shell.execute_reply": "2023-01-02T18:47:58.170349Z"
    },
    "gather": {
     "logged": 1678815484747
    },
    "id": "5HlIy9bHcX2L",
    "outputId": "4a703391-f9b8-4edb-cbf8-07fe30b63e39",
    "papermill": {
     "duration": 21.380185,
     "end_time": "2023-01-02T18:47:58.173916",
     "exception": false,
     "start_time": "2023-01-02T18:47:36.793731",
     "status": "completed"
    },
    "tags": []
   },
   "outputs": [],
   "source": [
    "regressor = XGBRegressor()\n",
    "for train_index, test_index in tss.split(X):\n",
    "    X_train, X_test = X.iloc[train_index, :], X.iloc[test_index,:]\n",
    "    y_train, y_test = Y.iloc[train_index], Y.iloc[test_index]\n",
    "    #xgbr.fit(X_train, y_train)\n",
    "    xgbr = TransformedTargetRegressor(regressor= regressor,\n",
    "                                        transformer = MinMaxScaler()\n",
    "                                        ).fit(X_train,y_train)\n",
    "    "
   ]
  },
  {
   "cell_type": "code",
   "execution_count": 0,
   "metadata": {
    "application/vnd.databricks.v1+cell": {
     "cellMetadata": {},
     "inputWidgets": {},
     "nuid": "906702f4-2f0f-479e-8926-8e76026f94bb",
     "showTitle": false,
     "title": ""
    },
    "execution": {
     "iopub.execute_input": "2023-01-02T18:47:58.405238Z",
     "iopub.status.busy": "2023-01-02T18:47:58.403883Z",
     "iopub.status.idle": "2023-01-02T18:47:58.477974Z",
     "shell.execute_reply": "2023-01-02T18:47:58.476878Z"
    },
    "gather": {
     "logged": 1678815484959
    },
    "id": "0ilDR62occvk",
    "papermill": {
     "duration": 0.115449,
     "end_time": "2023-01-02T18:47:58.481029",
     "exception": false,
     "start_time": "2023-01-02T18:47:58.365580",
     "status": "completed"
    },
    "tags": []
   },
   "outputs": [],
   "source": [
    "xgbr_RMSE = np.sqrt(-cross_val_score(xgbr, X, Y, cv=tss, scoring='neg_mean_squared_error'))\r\n",
    "xgbr_MSE = -cross_val_score(xgbr, X, Y, cv=tss, scoring='neg_mean_squared_error')\r\n",
    "xgbr_MAE = -cross_val_score(xgbr, X, Y, cv=tss, scoring='neg_mean_absolute_error')\r\n",
    "xgbr_R2 = cross_val_score(xgbr, X, Y, cv=tss, scoring='r2')\r\n",
    "\r\n",
    "print(f\"RMSE: {xgbr_RMSE.mean()} (+/- {xgbr_RMSE.std()}\")\r\n",
    "print(f\"\\nMSE: {xgbr_MSE.mean()} (+/- {xgbr_MSE.std()}\")\r\n",
    "print(f\"\\nMAE: {xgbr_MAE.mean()} (+/- {xgbr_MAE.std()}\")\r\n",
    "print(f\"\\nR2: {xgbr_R2.mean()} (+/- {xgbr_R2.std()}\")\r\n"
   ]
  },
  {
   "cell_type": "code",
   "execution_count": 0,
   "metadata": {
    "application/vnd.databricks.v1+cell": {
     "cellMetadata": {},
     "inputWidgets": {},
     "nuid": "c63084c8-031f-4d4e-ae5d-d811b7cc34c3",
     "showTitle": false,
     "title": ""
    },
    "execution": {
     "iopub.execute_input": "2023-01-02T18:47:58.647677Z",
     "iopub.status.busy": "2023-01-02T18:47:58.647307Z",
     "iopub.status.idle": "2023-01-02T18:47:58.658573Z",
     "shell.execute_reply": "2023-01-02T18:47:58.657615Z"
    },
    "gather": {
     "logged": 1678815485201
    },
    "id": "xwgrlI7Kch9i",
    "outputId": "0feb1e52-2658-4b77-d93f-e767e4a4bfff",
    "papermill": {
     "duration": 0.052361,
     "end_time": "2023-01-02T18:47:58.660389",
     "exception": false,
     "start_time": "2023-01-02T18:47:58.608028",
     "status": "completed"
    },
    "tags": []
   },
   "outputs": [],
   "source": [
    "#make prediction with the last test set\n",
    "y_pred = xgbr.predict(X_test)\n",
    "xgb_df = pd.DataFrame({'Actual': y_test, 'Predicted': y_pred})\n",
    "xgb_df.head()"
   ]
  },
  {
   "cell_type": "code",
   "execution_count": 0,
   "metadata": {
    "application/vnd.databricks.v1+cell": {
     "cellMetadata": {},
     "inputWidgets": {},
     "nuid": "40908908-0bf9-489e-8fe8-1d382177b8b6",
     "showTitle": false,
     "title": ""
    },
    "execution": {
     "iopub.execute_input": "2023-01-02T18:47:58.737825Z",
     "iopub.status.busy": "2023-01-02T18:47:58.737022Z",
     "iopub.status.idle": "2023-01-02T18:47:58.931900Z",
     "shell.execute_reply": "2023-01-02T18:47:58.930827Z"
    },
    "gather": {
     "logged": 1678815485603
    },
    "id": "NNSqbwkdckK4",
    "outputId": "66054342-814c-4f25-8307-169c2bd4717f",
    "papermill": {
     "duration": 0.235715,
     "end_time": "2023-01-02T18:47:58.933990",
     "exception": false,
     "start_time": "2023-01-02T18:47:58.698275",
     "status": "completed"
    },
    "tags": []
   },
   "outputs": [],
   "source": [
    "plt.figure(figsize=(16,8))\n",
    "plt.title('Comparison between actual and predicted values',fontsize=10)\n",
    "plt.plot(xgbr.predict(X_test), label=\"prediction\", linewidth=3.0,color='blue')\n",
    "plt.plot(y_test.values, label=\"real_values\", linewidth=3.0,color='red')\n",
    "plt.legend(loc=\"best\")\n",
    "\n",
    "plt.show()"
   ]
  },
  {
   "cell_type": "code",
   "execution_count": 0,
   "metadata": {
    "application/vnd.databricks.v1+cell": {
     "cellMetadata": {},
     "inputWidgets": {},
     "nuid": "6079c4c2-ce57-461b-8dc1-12262b29e1b6",
     "showTitle": false,
     "title": ""
    },
    "gather": {
     "logged": 1678815485812
    },
    "jupyter": {
     "outputs_hidden": false,
     "source_hidden": false
    },
    "nteract": {
     "transient": {
      "deleting": false
     }
    }
   },
   "outputs": [],
   "source": [
    "\r\n",
    "regressor = DecisionTreeRegressor()\r\n",
    "for train_index, test_index in tss.split(X):\r\n",
    "    X_train, X_test = X.iloc[train_index, :], X.iloc[test_index,:]\r\n",
    "    y_train, y_test = Y.iloc[train_index], Y.iloc[test_index]\r\n",
    "    #xgbr.fit(X_train, y_train)\r\n",
    "    dt = TransformedTargetRegressor(regressor= regressor,\r\n",
    "                                        transformer = MinMaxScaler()\r\n",
    "                                        ).fit(X_train,y_train)"
   ]
  },
  {
   "cell_type": "code",
   "execution_count": 0,
   "metadata": {
    "application/vnd.databricks.v1+cell": {
     "cellMetadata": {},
     "inputWidgets": {},
     "nuid": "ff4319e1-9839-4043-865e-fe862ff355bb",
     "showTitle": false,
     "title": ""
    },
    "gather": {
     "logged": 1678815486020
    },
    "jupyter": {
     "outputs_hidden": false,
     "source_hidden": false
    },
    "nteract": {
     "transient": {
      "deleting": false
     }
    }
   },
   "outputs": [],
   "source": [
    "dt_RMSE = np.sqrt(-cross_val_score(dt, X, Y, cv=tss, scoring='neg_mean_squared_error'))\r\n",
    "dt_MSE = -cross_val_score(dt, X, Y, cv=tss, scoring='neg_mean_squared_error')\r\n",
    "dt_MAE = -cross_val_score(dt, X, Y, cv=tss, scoring='neg_mean_absolute_error')\r\n",
    "dt_R2 = cross_val_score(dt, X, Y, cv=tss, scoring='r2')\r\n",
    "\r\n",
    "print(f\"RMSE: {dt_RMSE.mean()} (+/- {dt_RMSE.std()}\")\r\n",
    "print(f\"\\nMSE: {dt_MSE.mean()} (+/- {dt_MSE.std()}\")\r\n",
    "print(f\"\\nMAE: {dt_MAE.mean()} (+/- {dt_MAE.std()}\")\r\n",
    "print(f\"\\nR2: {dt_R2.mean()} (+/- {dt_R2.std()}\")\r\n"
   ]
  },
  {
   "cell_type": "code",
   "execution_count": 0,
   "metadata": {
    "application/vnd.databricks.v1+cell": {
     "cellMetadata": {},
     "inputWidgets": {},
     "nuid": "50dd2b97-f5e8-43c8-96b7-820defdd2961",
     "showTitle": false,
     "title": ""
    },
    "gather": {
     "logged": 1678815486265
    },
    "jupyter": {
     "outputs_hidden": false,
     "source_hidden": false
    },
    "nteract": {
     "transient": {
      "deleting": false
     }
    }
   },
   "outputs": [],
   "source": [
    "#make prediction with the last test set\r\n",
    "y_pred = dt.predict(X_test)\r\n",
    "dt_df = pd.DataFrame({'Actual': y_test, 'Predicted': y_pred})\r\n",
    "dt_df.head()"
   ]
  },
  {
   "cell_type": "code",
   "execution_count": 0,
   "metadata": {
    "application/vnd.databricks.v1+cell": {
     "cellMetadata": {},
     "inputWidgets": {},
     "nuid": "45b32109-6187-43d2-afa0-3fcfa77aa602",
     "showTitle": false,
     "title": ""
    },
    "gather": {
     "logged": 1678815486986
    },
    "jupyter": {
     "outputs_hidden": false,
     "source_hidden": false
    },
    "nteract": {
     "transient": {
      "deleting": false
     }
    }
   },
   "outputs": [],
   "source": [
    "plt.figure(figsize=(16,8))\r\n",
    "plt.title('Comparison between actual and predicted values',fontsize=10)\r\n",
    "plt.plot(dt.predict(X_test), label=\"prediction\", linewidth=3.0,color='blue')\r\n",
    "plt.plot(y_test.values, label=\"real_values\", linewidth=3.0,color='red')\r\n",
    "plt.legend(loc=\"best\")\r\n",
    "\r\n",
    "plt.show()"
   ]
  },
  {
   "cell_type": "code",
   "execution_count": 0,
   "metadata": {
    "application/vnd.databricks.v1+cell": {
     "cellMetadata": {},
     "inputWidgets": {},
     "nuid": "358e7c17-a515-4116-b527-363c0b6f71cc",
     "showTitle": false,
     "title": ""
    },
    "gather": {
     "logged": 1678815487189
    },
    "jupyter": {
     "outputs_hidden": false,
     "source_hidden": false
    },
    "nteract": {
     "transient": {
      "deleting": false
     }
    }
   },
   "outputs": [],
   "source": [
    "error_metrics = {'model':['linear_regression','random_forest','knn','xgbr','dt'],\r\n",
    "'MAE': [linear_regression_MAE.mean(),random_forest_MAE.mean(),knn_MAE.mean(),xgbr_MAE.mean(),dt_MAE.mean()],\r\n",
    "'MSE':[linear_regression_MSE.mean(),random_forest_MSE.mean(),knn_MSE.mean(),xgbr_MSE.mean(),dt_MSE.mean()],\r\n",
    "'RMSE':[linear_regression_RMSE.mean(),random_forest_RMSE.mean(),knn_RMSE.mean(),xgbr_RMSE.mean(),dt_RMSE.mean()],\r\n",
    "'R2':[linear_regression_R2.mean(),random_forest_R2.mean(),knn_R2.mean(),xgbr_R2.mean(),dt_R2.mean()]}"
   ]
  },
  {
   "cell_type": "code",
   "execution_count": 0,
   "metadata": {
    "application/vnd.databricks.v1+cell": {
     "cellMetadata": {},
     "inputWidgets": {},
     "nuid": "adfabcf9-71ac-48e4-9590-0bb4c6416198",
     "showTitle": false,
     "title": ""
    },
    "gather": {
     "logged": 1678815487437
    },
    "jupyter": {
     "outputs_hidden": false,
     "source_hidden": false
    },
    "nteract": {
     "transient": {
      "deleting": false
     }
    }
   },
   "outputs": [],
   "source": [
    "acc_df = pd.DataFrame(error_metrics)\r\n",
    "acc_df"
   ]
  },
  {
   "cell_type": "code",
   "execution_count": 0,
   "metadata": {
    "application/vnd.databricks.v1+cell": {
     "cellMetadata": {},
     "inputWidgets": {},
     "nuid": "8acc039d-bd22-4fb0-9d14-fc6bba04ce1d",
     "showTitle": false,
     "title": ""
    },
    "gather": {
     "logged": 1678815487847
    },
    "jupyter": {
     "outputs_hidden": false,
     "source_hidden": false
    },
    "nteract": {
     "transient": {
      "deleting": false
     }
    }
   },
   "outputs": [],
   "source": [
    "fig, axes = plt.subplots(2,2,figsize=(16,8))\r\n",
    "\r\n",
    "sns.lineplot(ax=axes[0,0], x='model',y='MAE', data=acc_df)\r\n",
    "sns.lineplot(ax=axes[0,1],x='model',y='MSE', data=acc_df)\r\n",
    "sns.lineplot(ax=axes[1,0],x='model',y='RMSE', data=acc_df)\r\n",
    "sns.lineplot(ax=axes[1,1],x='model',y='R2', data=acc_df)\r\n",
    "\r\n",
    "plt.show()"
   ]
  },
  {
   "cell_type": "markdown",
   "metadata": {
    "application/vnd.databricks.v1+cell": {
     "cellMetadata": {},
     "inputWidgets": {},
     "nuid": "a85f8a58-8fff-4898-ba31-719fbcfe5692",
     "showTitle": false,
     "title": ""
    },
    "nteract": {
     "transient": {
      "deleting": false
     }
    }
   },
   "source": [
    "The model with the lowest average MSE, MAE and RMSE is the random forest"
   ]
  },
  {
   "cell_type": "markdown",
   "metadata": {
    "application/vnd.databricks.v1+cell": {
     "cellMetadata": {},
     "inputWidgets": {},
     "nuid": "ccdc8a79-3fc5-4cb7-9a94-88756cf7b9ed",
     "showTitle": false,
     "title": ""
    },
    "nteract": {
     "transient": {
      "deleting": false
     }
    }
   },
   "source": [
    "# How to predict the next Period with XGBoost"
   ]
  },
  {
   "cell_type": "markdown",
   "metadata": {
    "application/vnd.databricks.v1+cell": {
     "cellMetadata": {},
     "inputWidgets": {},
     "nuid": "401f50a9-3fdf-4c9e-bd14-f3e258fb4526",
     "showTitle": false,
     "title": ""
    },
    "nteract": {
     "transient": {
      "deleting": false
     }
    }
   },
   "source": [
    "Using Prophet to predict the Number of BRs and the company Number.\r\n",
    "Predict the next 12 periods using the prophet results and XGboost ML process."
   ]
  },
  {
   "cell_type": "markdown",
   "metadata": {
    "application/vnd.databricks.v1+cell": {
     "cellMetadata": {},
     "inputWidgets": {},
     "nuid": "e71d0c12-83f0-4294-9081-bdb967f64463",
     "showTitle": false,
     "title": ""
    },
    "nteract": {
     "transient": {
      "deleting": false
     }
    }
   },
   "source": [
    "Applying Prophet to BRs Number and predict 12 future periods"
   ]
  },
  {
   "cell_type": "code",
   "execution_count": 0,
   "metadata": {
    "application/vnd.databricks.v1+cell": {
     "cellMetadata": {},
     "inputWidgets": {},
     "nuid": "af888387-811f-4414-a98d-c91f1e5ef23f",
     "showTitle": false,
     "title": ""
    },
    "gather": {
     "logged": 1678815488064
    },
    "jupyter": {
     "outputs_hidden": false,
     "source_hidden": false
    },
    "nteract": {
     "transient": {
      "deleting": false
     }
    }
   },
   "outputs": [],
   "source": [
    "from fbprophet import Prophet,diagnostics\r\n",
    "from sklearn.preprocessing import MinMaxScaler\r\n",
    "pred_periods = 12\r\n",
    "\r\n",
    "df= upload_file(\"./Dataset2.csv\")\r\n",
    "# prepare expected column names\r\n",
    "df_pro=pd.DataFrame(columns=['ds','y'])\r\n",
    "df_pro=df.reset_index()\r\n",
    "df_pro= df_pro.rename(columns={\"Timestamp\": \"ds\", \"COUNT_BR_NMBR\": \"y\"})\r\n",
    "df_pro= df_pro.drop([ 'FY','Revenue', 'COUNT_GC_ORG','POST_PERIOD'], axis=1)\r\n",
    "df_pro.tail()"
   ]
  },
  {
   "cell_type": "code",
   "execution_count": 0,
   "metadata": {
    "application/vnd.databricks.v1+cell": {
     "cellMetadata": {},
     "inputWidgets": {},
     "nuid": "e51a3414-fee8-4cbc-99ae-590f36eeca33",
     "showTitle": false,
     "title": ""
    },
    "gather": {
     "logged": 1678815488828
    },
    "jupyter": {
     "outputs_hidden": false,
     "source_hidden": false
    },
    "nteract": {
     "transient": {
      "deleting": false
     }
    }
   },
   "outputs": [],
   "source": [
    "m = Prophet(interval_width=0.95)\r\n",
    "m.fit(df_pro)\r\n",
    "future = m.make_future_dataframe(periods=pred_periods,freq='M')\r\n",
    "forecast = m.predict(future)\r\n",
    "forecast[['ds', 'yhat', 'yhat_lower', 'yhat_upper']].tail(pred_periods)\r\n"
   ]
  },
  {
   "cell_type": "markdown",
   "metadata": {
    "application/vnd.databricks.v1+cell": {
     "cellMetadata": {},
     "inputWidgets": {},
     "nuid": "0965d663-c35f-4a10-97ef-9fb5e9274986",
     "showTitle": false,
     "title": ""
    },
    "nteract": {
     "transient": {
      "deleting": false
     }
    }
   },
   "source": [
    "To avoid possible negative values we will Clip predictions of a regular model : The idea here is just to fit a usual model, and then clamp negative predictions up to 0. Note that we'll use multiplicative seasonality here - we'd probably always want to use multiplicative seasonality in settings with positive predictions."
   ]
  },
  {
   "cell_type": "markdown",
   "metadata": {
    "application/vnd.databricks.v1+cell": {
     "cellMetadata": {},
     "inputWidgets": {},
     "nuid": "f9ab5f32-b273-40d4-bcee-1cdd9a8952a8",
     "showTitle": false,
     "title": ""
    },
    "nteract": {
     "transient": {
      "deleting": false
     }
    }
   },
   "source": []
  },
  {
   "cell_type": "code",
   "execution_count": 0,
   "metadata": {
    "application/vnd.databricks.v1+cell": {
     "cellMetadata": {},
     "inputWidgets": {},
     "nuid": "ef756aae-a91c-45ff-8bf9-ea512ba4e510",
     "showTitle": false,
     "title": ""
    },
    "gather": {
     "logged": 1678815489740
    },
    "jupyter": {
     "outputs_hidden": false,
     "source_hidden": false
    },
    "nteract": {
     "transient": {
      "deleting": false
     }
    }
   },
   "outputs": [],
   "source": [
    "for col in ['yhat', 'yhat_lower', 'yhat_upper']:\r\n",
    "    forecast[col] = forecast[col].clip(lower=0.0)\r\n",
    "fig = m.plot(forecast)"
   ]
  },
  {
   "cell_type": "code",
   "execution_count": 0,
   "metadata": {
    "application/vnd.databricks.v1+cell": {
     "cellMetadata": {},
     "inputWidgets": {},
     "nuid": "85281341-0e24-4833-9584-faace78e940c",
     "showTitle": false,
     "title": ""
    },
    "gather": {
     "logged": 1678815489984
    },
    "jupyter": {
     "outputs_hidden": false,
     "source_hidden": false
    },
    "nteract": {
     "transient": {
      "deleting": false
     }
    }
   },
   "outputs": [],
   "source": [
    "future_brs_nb = forecast[['ds','yhat']].tail(12)\r\n"
   ]
  },
  {
   "cell_type": "markdown",
   "metadata": {
    "application/vnd.databricks.v1+cell": {
     "cellMetadata": {},
     "inputWidgets": {},
     "nuid": "42f6935d-a815-4e2b-8777-597ebdc424c8",
     "showTitle": false,
     "title": ""
    },
    "nteract": {
     "transient": {
      "deleting": false
     }
    }
   },
   "source": [
    "Applying Prophet to Organization account Number and predict 12 future periods"
   ]
  },
  {
   "cell_type": "code",
   "execution_count": 0,
   "metadata": {
    "application/vnd.databricks.v1+cell": {
     "cellMetadata": {},
     "inputWidgets": {},
     "nuid": "53b491de-e78c-4081-856b-c54890368552",
     "showTitle": false,
     "title": ""
    },
    "gather": {
     "logged": 1678815490205
    },
    "jupyter": {
     "outputs_hidden": false,
     "source_hidden": false
    },
    "nteract": {
     "transient": {
      "deleting": false
     }
    }
   },
   "outputs": [],
   "source": [
    "df= upload_file(\"./Dataset2.csv\")\r\n",
    "# prepare expected column names\r\n",
    "df_pro=pd.DataFrame(columns=['ds','y'])\r\n",
    "df_pro=df.reset_index()\r\n",
    "df_pro= df_pro.rename(columns={\"Timestamp\": \"ds\", \"COUNT_GC_ORG\": \"y\"})\r\n",
    "df_pro= df_pro.drop([ 'FY','Revenue', 'COUNT_BR_NMBR','POST_PERIOD'], axis=1)\r\n",
    "\r\n",
    "df_pro.tail()"
   ]
  },
  {
   "cell_type": "code",
   "execution_count": 0,
   "metadata": {
    "application/vnd.databricks.v1+cell": {
     "cellMetadata": {},
     "inputWidgets": {},
     "nuid": "a17efc1f-edbf-4faf-947d-e0949dfa80ed",
     "showTitle": false,
     "title": ""
    },
    "gather": {
     "logged": 1678815491755
    },
    "jupyter": {
     "outputs_hidden": false,
     "source_hidden": false
    },
    "nteract": {
     "transient": {
      "deleting": false
     }
    }
   },
   "outputs": [],
   "source": [
    "m = Prophet(interval_width=0.95)\r\n",
    "m.fit(df_pro)\r\n",
    "future = m.make_future_dataframe(periods=pred_periods,freq='M')\r\n",
    "forecast = m.predict(future)\r\n",
    "forecast[['ds', 'yhat', 'yhat_lower', 'yhat_upper']].tail(pred_periods)"
   ]
  },
  {
   "cell_type": "markdown",
   "metadata": {
    "application/vnd.databricks.v1+cell": {
     "cellMetadata": {},
     "inputWidgets": {},
     "nuid": "a55e8ef6-8d12-4443-afba-bacdbd1bedf2",
     "showTitle": false,
     "title": ""
    },
    "nteract": {
     "transient": {
      "deleting": false
     }
    }
   },
   "source": [
    "Same approach To avoid possible negative values generated by prophet we will Clip predictions of a regular model : The idea here is just to fit a usual model, and then clamp negative predictions up to 0. Note that we'll use multiplicative seasonality here - we'd probably always want to use multiplicative seasonality in settings with positive predictions."
   ]
  },
  {
   "cell_type": "code",
   "execution_count": 0,
   "metadata": {
    "application/vnd.databricks.v1+cell": {
     "cellMetadata": {},
     "inputWidgets": {},
     "nuid": "bdd06f64-da53-49ec-9489-8b53d2a5bd48",
     "showTitle": false,
     "title": ""
    },
    "gather": {
     "logged": 1678815492711
    },
    "jupyter": {
     "outputs_hidden": false,
     "source_hidden": false
    },
    "nteract": {
     "transient": {
      "deleting": false
     }
    }
   },
   "outputs": [],
   "source": [
    "for col in ['yhat', 'yhat_lower', 'yhat_upper']:\r\n",
    "    forecast[col] = forecast[col].clip(lower=0.0)\r\n",
    "fig = m.plot(forecast)"
   ]
  },
  {
   "cell_type": "code",
   "execution_count": 0,
   "metadata": {
    "application/vnd.databricks.v1+cell": {
     "cellMetadata": {},
     "inputWidgets": {},
     "nuid": "803e6d86-a7b2-4242-b886-35a766f6722a",
     "showTitle": false,
     "title": ""
    },
    "gather": {
     "logged": 1678815497271
    },
    "jupyter": {
     "outputs_hidden": false,
     "source_hidden": false
    },
    "nteract": {
     "transient": {
      "deleting": false
     }
    }
   },
   "outputs": [],
   "source": [
    "future_org_nb = forecast[['ds','yhat']].tail(12)"
   ]
  },
  {
   "cell_type": "markdown",
   "metadata": {
    "application/vnd.databricks.v1+cell": {
     "cellMetadata": {},
     "inputWidgets": {},
     "nuid": "235a076b-9b58-4af8-9eba-9456b1672cac",
     "showTitle": false,
     "title": ""
    },
    "nteract": {
     "transient": {
      "deleting": false
     }
    }
   },
   "source": [
    "## Merging DataFrames\r\n",
    "Pull all predicted variables (except Revenue) together"
   ]
  },
  {
   "cell_type": "code",
   "execution_count": 0,
   "metadata": {
    "application/vnd.databricks.v1+cell": {
     "cellMetadata": {},
     "inputWidgets": {},
     "nuid": "96e376ef-1a1a-47e1-bd07-b4f6307b5bd8",
     "showTitle": false,
     "title": ""
    },
    "gather": {
     "logged": 1678816490379
    },
    "jupyter": {
     "outputs_hidden": false,
     "source_hidden": false
    },
    "nteract": {
     "transient": {
      "deleting": false
     }
    }
   },
   "outputs": [],
   "source": [
    "future_org_nb = future_org_nb.rename(columns={\"ds\":\"Timestamp\" ,\"yhat\": \"COUNT_GC_ORG\" })\r\n",
    "future_brs_nb = future_brs_nb.rename(columns={\"ds\":\"Timestamp\" ,\"yhat\": \"COUNT_BR_NMBR\" })"
   ]
  },
  {
   "cell_type": "code",
   "execution_count": 0,
   "metadata": {
    "application/vnd.databricks.v1+cell": {
     "cellMetadata": {},
     "inputWidgets": {},
     "nuid": "5a86221f-d1f7-4753-be23-6bd9c9db5808",
     "showTitle": false,
     "title": ""
    },
    "gather": {
     "logged": 1678816492262
    },
    "jupyter": {
     "outputs_hidden": false,
     "source_hidden": false
    },
    "nteract": {
     "transient": {
      "deleting": false
     }
    }
   },
   "outputs": [],
   "source": [
    "\r\n",
    "result = pd.merge(future_org_nb,\r\n",
    "                 future_brs_nb[['Timestamp','COUNT_BR_NMBR']],\r\n",
    "                 on='Timestamp'\r\n",
    "                )\r\n",
    "result.head(12)"
   ]
  },
  {
   "cell_type": "code",
   "execution_count": 0,
   "metadata": {
    "application/vnd.databricks.v1+cell": {
     "cellMetadata": {},
     "inputWidgets": {},
     "nuid": "eef65029-539c-461c-94e1-e72f70fbbf56",
     "showTitle": false,
     "title": ""
    },
    "gather": {
     "logged": 1678817547497
    },
    "jupyter": {
     "outputs_hidden": false,
     "source_hidden": false
    },
    "nteract": {
     "transient": {
      "deleting": false
     }
    }
   },
   "outputs": [],
   "source": [
    "def create_pred_Dframe (df):\r\n",
    "   # add the POST_PERIOD and FY one hot if not exist\r\n",
    "   df['POST_PERIOD'].where(pd.DatetimeIndex(df['Timestamp']).month >= 4 , pd.DatetimeIndex(df['Timestamp']).month )\r\n",
    "                      # np.where( pd.DatetimeIndex(df['Timestamp']).month < 4 ,  1))\r\n",
    "   return df\r\n",
    "create_pred_Dframe(result)"
   ]
  },
  {
   "cell_type": "markdown",
   "metadata": {
    "application/vnd.databricks.v1+cell": {
     "cellMetadata": {},
     "inputWidgets": {},
     "nuid": "73a663c5-b800-438e-90b8-2a2813e0dbcf",
     "showTitle": false,
     "title": ""
    },
    "nteract": {
     "transient": {
      "deleting": false
     }
    }
   },
   "source": [
    "Make prediction"
   ]
  },
  {
   "cell_type": "code",
   "execution_count": 0,
   "metadata": {
    "application/vnd.databricks.v1+cell": {
     "cellMetadata": {},
     "inputWidgets": {},
     "nuid": "4f7f9ff8-5fa6-4325-a8ec-79055e10363c",
     "showTitle": false,
     "title": ""
    },
    "jupyter": {
     "outputs_hidden": false,
     "source_hidden": false
    },
    "nteract": {
     "transient": {
      "deleting": false
     }
    }
   },
   "outputs": [],
   "source": [
    "#make prediction with the last test set\r\n",
    "y_pred = dt.predict(X_test)\r\n",
    "dt_df = pd.DataFrame({'Actual': y_test, 'Predicted': y_pred})\r\n",
    "dt_df.head()"
   ]
  }
 ],
 "metadata": {
  "application/vnd.databricks.v1+notebook": {
   "dashboards": [],
   "language": "python",
   "notebookMetadata": {
    "pythonIndentUnit": 4
   },
   "notebookName": "Revenue_Forecast_ML_regressors_multivariate",
   "widgets": {}
  },
  "kernel_info": {
   "name": "python3"
  },
  "kernelspec": {
   "display_name": "Python 3 (ipykernel)",
   "language": "python",
   "name": "python3"
  },
  "language_info": {
   "codemirror_mode": {
    "name": "ipython",
    "version": 3
   },
   "file_extension": ".py",
   "mimetype": "text/x-python",
   "name": "python",
   "nbconvert_exporter": "python",
   "pygments_lexer": "ipython3",
   "version": "3.8.5"
  },
  "microsoft": {
   "host": {
    "AzureML": {
     "notebookHasBeenCompleted": true
    }
   },
   "ms_spell_check": {
    "ms_spell_check_language": "en"
   }
  },
  "nteract": {
   "version": "nteract-front-end@1.0.0"
  },
  "papermill": {
   "default_parameters": {},
   "duration": 819.333823,
   "end_time": "2023-01-02T18:48:00.710482",
   "environment_variables": {},
   "exception": null,
   "input_path": "__notebook__.ipynb",
   "output_path": "__notebook__.ipynb",
   "parameters": {},
   "start_time": "2023-01-02T18:34:21.376659",
   "version": "2.3.4"
  },
  "vscode": {
   "interpreter": {
    "hash": "c7f0e4ec3087278b78f97b7b29a5dc84ea2efd82653d990e5d8aaaa1eccc49b0"
   }
  }
 },
 "nbformat": 4,
 "nbformat_minor": 0
}
