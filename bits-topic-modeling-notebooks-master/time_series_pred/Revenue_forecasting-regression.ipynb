{
 "cells": [
  {
   "cell_type": "code",
   "execution_count": 0,
   "metadata": {
    "application/vnd.databricks.v1+cell": {
     "cellMetadata": {},
     "inputWidgets": {},
     "nuid": "d39f44f2-0ed9-4ff7-8b50-f2af9f4b01c8",
     "showTitle": false,
     "title": ""
    },
    "gather": {
     "logged": 1677683764425
    }
   },
   "outputs": [],
   "source": [
    "import json\r\n",
    "import logging\r\n",
    "from azureml.core import Workspace, Dataset\r\n",
    "import azureml.core\r\n",
    "import pandas as pd\r\n",
    "from azureml.automl.core.featurization import FeaturizationConfig\r\n",
    "from azureml.core.experiment import Experiment\r\n",
    "from azureml.core.workspace import Workspace\r\n",
    "from azureml.train.automl import AutoMLConfig\r\n",
    "import matplotlib.pyplot as plt\r\n",
    "from matplotlib import rcParams\r\n",
    "from cycler import cycler\r\n",
    "import pandas as pd\r\n",
    "import numpy as np\r\n",
    "import matplotlib.pyplot as plt\r\n",
    "import pmdarima as pm\r\n",
    "from statsmodels.graphics.tsaplots import plot_acf\r\n",
    "from statsmodels.tsa.seasonal import seasonal_decompose\r\n",
    "import seaborn as sns"
   ]
  },
  {
   "cell_type": "code",
   "execution_count": 0,
   "metadata": {
    "application/vnd.databricks.v1+cell": {
     "cellMetadata": {},
     "inputWidgets": {},
     "nuid": "af66d2e2-0e57-4e70-97c7-0c4141ffb951",
     "showTitle": false,
     "title": ""
    },
    "gather": {
     "logged": 1677683764533
    },
    "jupyter": {
     "outputs_hidden": false,
     "source_hidden": false
    },
    "nteract": {
     "transient": {
      "deleting": false
     }
    }
   },
   "outputs": [],
   "source": [
    "print(\"You are currently using version\", azureml.core.VERSION, \"of the Azure ML SDK\")"
   ]
  },
  {
   "cell_type": "code",
   "execution_count": 0,
   "metadata": {
    "application/vnd.databricks.v1+cell": {
     "cellMetadata": {},
     "inputWidgets": {},
     "nuid": "5bb7e5a2-c767-41fe-ba16-de07cb30d99b",
     "showTitle": false,
     "title": ""
    },
    "gather": {
     "logged": 1677683765563
    },
    "jupyter": {
     "outputs_hidden": false,
     "source_hidden": false
    },
    "nteract": {
     "transient": {
      "deleting": false
     }
    }
   },
   "outputs": [],
   "source": [
    "ws = Workspace.from_config()\r\n",
    "\r\n",
    "# choose a name for the run history container in the workspace\r\n",
    "experiment_name = \"automl-ojforecasting\"\r\n",
    "\r\n",
    "experiment = Experiment(ws, experiment_name)\r\n",
    "\r\n",
    "output = {}\r\n",
    "output[\"Subscription ID\"] = ws.subscription_id\r\n",
    "output[\"Workspace\"] = ws.name\r\n",
    "output[\"SKU\"] = ws.sku\r\n",
    "output[\"Resource Group\"] = ws.resource_group\r\n",
    "output[\"Location\"] = ws.location\r\n",
    "output[\"Run History Name\"] = experiment_name\r\n",
    "output[\"SDK Version\"] = azureml.core.VERSION\r\n",
    "pd.set_option(\"display.max_colwidth\", None)\r\n",
    "outputDf = pd.DataFrame(data=output, index=[\"\"])\r\n",
    "outputDf.T"
   ]
  },
  {
   "cell_type": "code",
   "execution_count": 0,
   "metadata": {
    "application/vnd.databricks.v1+cell": {
     "cellMetadata": {},
     "inputWidgets": {},
     "nuid": "46f67d62-9692-4802-b5be-cc5ac594a7da",
     "showTitle": false,
     "title": ""
    },
    "gather": {
     "logged": 1677683765916
    },
    "jupyter": {
     "outputs_hidden": false,
     "source_hidden": false
    },
    "nteract": {
     "transient": {
      "deleting": false
     }
    }
   },
   "outputs": [],
   "source": [
    "from azureml.core.compute import ComputeTarget, AmlCompute\r\n",
    "from azureml.core.compute_target import ComputeTargetException\r\n",
    "\r\n",
    "# Choose a name for your CPU cluster\r\n",
    "amlcompute_cluster_name = \"Forcast-cluster\"\r\n",
    "\r\n",
    "# Verify that cluster does not exist already\r\n",
    "try:\r\n",
    "    compute_target = ComputeTarget(workspace=ws, name=amlcompute_cluster_name)\r\n",
    "    print(\"Found existing cluster, use it.\")\r\n",
    "except ComputeTargetException:\r\n",
    "    compute_config = AmlCompute.provisioning_configuration(\r\n",
    "        vm_size=\"STANDARD_D12_V2\", max_nodes=6\r\n",
    "    )\r\n",
    "    compute_target = ComputeTarget.create(ws, amlcompute_cluster_name, compute_config)\r\n",
    "\r\n",
    "compute_target.wait_for_completion(show_output=True)"
   ]
  },
  {
   "cell_type": "code",
   "execution_count": 0,
   "metadata": {
    "application/vnd.databricks.v1+cell": {
     "cellMetadata": {},
     "inputWidgets": {},
     "nuid": "7439aab0-9f9c-4f38-a5e5-133f91a0e539",
     "showTitle": false,
     "title": ""
    },
    "gather": {
     "logged": 1677687970266
    },
    "jupyter": {
     "outputs_hidden": false,
     "source_hidden": false
    },
    "nteract": {
     "transient": {
      "deleting": false
     }
    }
   },
   "outputs": [],
   "source": [
    "df = pd.read_csv(\"./Dataset.csv\", delimiter=\";\")\r\n",
    "df.head()"
   ]
  },
  {
   "cell_type": "code",
   "execution_count": 0,
   "metadata": {
    "application/vnd.databricks.v1+cell": {
     "cellMetadata": {},
     "inputWidgets": {},
     "nuid": "377c4747-3d32-4bd3-99a5-6d884363c43b",
     "showTitle": false,
     "title": ""
    },
    "gather": {
     "logged": 1677687972141
    },
    "jupyter": {
     "outputs_hidden": false,
     "source_hidden": false
    },
    "nteract": {
     "transient": {
      "deleting": false
     }
    }
   },
   "outputs": [],
   "source": [
    "df.info()"
   ]
  },
  {
   "cell_type": "code",
   "execution_count": 0,
   "metadata": {
    "application/vnd.databricks.v1+cell": {
     "cellMetadata": {},
     "inputWidgets": {},
     "nuid": "b0d68965-39ea-44b3-917d-73af8dded0a9",
     "showTitle": false,
     "title": ""
    },
    "gather": {
     "logged": 1677687974560
    },
    "jupyter": {
     "outputs_hidden": false,
     "source_hidden": false
    },
    "nteract": {
     "transient": {
      "deleting": false
     }
    }
   },
   "outputs": [],
   "source": [
    "df=df.drop(['FY','POST_PERIOD','Num of BR','Num Organisation'], axis=1)\r\n",
    "df.head()"
   ]
  },
  {
   "cell_type": "code",
   "execution_count": 0,
   "metadata": {
    "application/vnd.databricks.v1+cell": {
     "cellMetadata": {},
     "inputWidgets": {},
     "nuid": "3dcaea2b-5955-41d9-becb-de2a9e49b79c",
     "showTitle": false,
     "title": ""
    },
    "gather": {
     "logged": 1677687978217
    },
    "jupyter": {
     "outputs_hidden": false,
     "source_hidden": false
    },
    "nteract": {
     "transient": {
      "deleting": false
     }
    }
   },
   "outputs": [],
   "source": [
    "plt.figure(figsize=(16,5))\r\n",
    "plt.plot(df['Timestamp'],df['Revenue'])\r\n",
    "plt.xlabel(\"Date\")\r\n",
    "plt.ylabel(\"Revenue\")\r\n",
    "plt.title(\"revenue per periods\")\r\n",
    "plt.show()"
   ]
  },
  {
   "cell_type": "code",
   "execution_count": 0,
   "metadata": {
    "application/vnd.databricks.v1+cell": {
     "cellMetadata": {},
     "inputWidgets": {},
     "nuid": "0d4ba598-d56e-46e2-9f2b-d0930989946c",
     "showTitle": false,
     "title": ""
    },
    "gather": {
     "logged": 1677688133584
    },
    "jupyter": {
     "outputs_hidden": false,
     "source_hidden": false
    },
    "nteract": {
     "transient": {
      "deleting": false
     }
    }
   },
   "outputs": [],
   "source": [
    "df['Revenue_diff']=df['Revenue'].diff()\r\n",
    "df=df.dropna()\r\n",
    "df.head(10)"
   ]
  },
  {
   "cell_type": "code",
   "execution_count": 0,
   "metadata": {
    "application/vnd.databricks.v1+cell": {
     "cellMetadata": {},
     "inputWidgets": {},
     "nuid": "8ef4dcda-c89d-4753-91e2-715df52ef517",
     "showTitle": false,
     "title": ""
    },
    "gather": {
     "logged": 1677688292814
    },
    "jupyter": {
     "outputs_hidden": false,
     "source_hidden": false
    },
    "nteract": {
     "transient": {
      "deleting": false
     }
    }
   },
   "outputs": [],
   "source": [
    "plt.figure(figsize=(16,5))\r\n",
    "plt.plot(df['Timestamp'],df['Revenue_diff'])\r\n",
    "plt.xlabel(\"Date\")\r\n",
    "plt.ylabel(\"Revenue_diff\")\r\n",
    "plt.title(\"revenue diff per periods\")\r\n",
    "plt.show()"
   ]
  }
 ],
 "metadata": {
  "application/vnd.databricks.v1+notebook": {
   "dashboards": [],
   "language": "python",
   "notebookMetadata": {},
   "notebookName": "Revenue_forecasting-regression",
   "widgets": {}
  },
  "kernel_info": {
   "name": "python38-azureml"
  },
  "kernelspec": {
   "display_name": "Python 3.8 - AzureML",
   "language": "python",
   "name": "python38-azureml"
  },
  "language_info": {
   "codemirror_mode": {
    "name": "ipython",
    "version": 3
   },
   "file_extension": ".py",
   "mimetype": "text/x-python",
   "name": "python",
   "nbconvert_exporter": "python",
   "pygments_lexer": "ipython3",
   "version": "3.8.5"
  },
  "microsoft": {
   "host": {
    "AzureML": {
     "notebookHasBeenCompleted": true
    }
   },
   "ms_spell_check": {
    "ms_spell_check_language": "en"
   }
  },
  "nteract": {
   "version": "nteract-front-end@1.0.0"
  }
 },
 "nbformat": 4,
 "nbformat_minor": 0
}
